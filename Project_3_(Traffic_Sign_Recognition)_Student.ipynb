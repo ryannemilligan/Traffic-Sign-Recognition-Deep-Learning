{
  "cells": [
    {
      "cell_type": "markdown",
      "metadata": {
        "id": "view-in-github",
        "colab_type": "text"
      },
      "source": [
        "<a href=\"https://colab.research.google.com/github/ryannemilligan/Traffic-Sign-Recognition-Deep-Learning/blob/main/Project_3_(Traffic_Sign_Recognition)_Student.ipynb\" target=\"_parent\"><img src=\"https://colab.research.google.com/assets/colab-badge.svg\" alt=\"Open In Colab\"/></a>"
      ]
    },
    {
      "cell_type": "markdown",
      "metadata": {
        "id": "PL8SKjtTaKU8"
      },
      "source": [
        "# Traffic Sign Recognition"
      ]
    },
    {
      "cell_type": "markdown",
      "metadata": {
        "id": "dHmeM2n6aKU9"
      },
      "source": [
        "# The Scenario\n",
        "\n",
        "\"More than 38,000 people die every year in crashes on U.S. roadways. The U.S. traffic fatality rate is 12.4 deaths per 100,000 inhabitants. An additional 4.4 million are injured seriously enough to require medical attention.\" <br>\n",
        "\n",
        "This brings with it the utmost importance to introduce autonomous vehicles to keep the people safe. <br>\n",
        "However, to truly keep the people safe, the vehicles must be able to recognize the traffic signs and act accordingly. <br>\n",
        "\n",
        "You are an AI Engineer with DriveSafe, a company that focuses on building autonomous vehicles.<br>\n",
        "Your current task is to train the vehicles to recognize the traffic signs.<br>\n",
        "\n",
        "Source: https://www.asirt.org/safe-travel/road-safety-facts/\n"
      ]
    },
    {
      "cell_type": "markdown",
      "metadata": {
        "id": "B1NtABwNaKU-"
      },
      "source": [
        "# Tips for working on this project\n",
        "You will be using these three concepts to be able to successfully complete this project:\n",
        "1. Deep Learning models\n",
        "2. AI Project Cycle <br>\n",
        "3. AI Ethics <br>\n",
        "\n",
        "If needed, please revise your notes on these topics."
      ]
    },
    {
      "cell_type": "markdown",
      "metadata": {
        "id": "FaKJM1BhaKU-"
      },
      "source": [
        "# Section 1: Understand the Problem\n",
        "\n",
        "One of the key points of solving an AI problem is to understand the problem statement correctly. <br>\n",
        "You need to understand what is the correct problems that you are solving.<br>\n",
        "You want to solve the root problem and not the symptoms.<br>\n",
        "To do that, you can use tools like 5 Whys, decomposition, and Fish-bone diagram.<br>\n",
        "You can then write your problem statement.<br>\n",
        "It may include helpful information, like who is affected, what is the problem, where is it happening, and when does it happen.<br>\n",
        "\n",
        "Based on the scenario above, write your problem statement in the cell below.<br>"
      ]
    },
    {
      "cell_type": "code",
      "execution_count": 1,
      "metadata": {
        "id": "V0nhYFWwaKU_"
      },
      "outputs": [],
      "source": [
        "# There are a lot of roadway crashes and fatalities in the United States which\n",
        "# signifies a need for increased vehicle safety. Autonomous vehicles are\n",
        "# therefore being developed, but the effectiveness of these vehicles in decreasing\n",
        "# these accidents is only as good as their ability to accurately perceive and then\n",
        "# react to their environment in real time. The problem is then to develop an AI\n",
        "# that is capable of the accuracies of recognizing traffic signs, which will\n",
        "# enable autonomous vehicles to make safe driving decisions to reduce accidents,\n",
        "# injuries, and deaths.\n",
        "\n"
      ]
    },
    {
      "cell_type": "markdown",
      "metadata": {
        "id": "aYEXfZQxaKVA"
      },
      "source": [
        "# Section 2: Data Acquisition\n",
        "\n",
        "Data is the main ingredient for AI model. <br>\n",
        "For a typical scenario for autonomous vehicles, where can you find your data? <br>\n",
        "Write your answer in the cell below. <br>\n",
        "\n",
        "In this scenario, you are given a few files.<br>\n",
        "These files are downloaded from: https://www.kaggle.com/meowmeowmeowmeowmeow/gtsrb-german-traffic-sign <br>\n"
      ]
    },
    {
      "cell_type": "code",
      "execution_count": 2,
      "metadata": {
        "id": "36oTVx5saKVA"
      },
      "outputs": [],
      "source": [
        "# Your answers here!\n"
      ]
    },
    {
      "cell_type": "markdown",
      "metadata": {
        "id": "blXFf5BqaKVA"
      },
      "source": [
        "## The AI Ethics of Handling Data\n",
        "AI Ethics are a vital component in our daily life. <br>\n",
        "What areas of AI Ethics are important in this scenario? <br>\n",
        "What are the implications of ignoring AI Ethics? <br>\n",
        "More importantly, what can you do to uphold AI Ethics in this scenario? <br>\n",
        "Write your answer in the cell below."
      ]
    },
    {
      "cell_type": "code",
      "execution_count": 3,
      "metadata": {
        "id": "HZxbhxsNaKVA"
      },
      "outputs": [],
      "source": [
        "# AI Ethics in Data Handling for Autonomous Vehicles: Privacy issues when\n",
        "# accidentally capturing data on humans, Bias based on not capturing all traffic\n",
        "# signs in weather conditions, lighting, etc.\n",
        "\n",
        "# Implications of Ignoring AI Ethics: Legal issues like lawsuits, safety risks\n",
        "# based on inaccurate models which would go against the whole point of AVs, loss\n",
        "# of trust from the public in AVs, reputation issues with bad publicity.\n",
        "\n",
        "# How to Uphold AI Ethics in this Scenario: Anonymize data to protect the privacy\n",
        "# of humans, license plates, etc, make sure data is diverse ans covers different\n",
        "# regions, lighting conditions, and angles to avoid bias, obtaining proper licensing,\n",
        "# audits regularly, being transparent with the data sources, and lastly human\n",
        "# oversight and QA.\n"
      ]
    },
    {
      "cell_type": "markdown",
      "metadata": {
        "id": "9iYXn54haKVB"
      },
      "source": [
        "# Import libraries and insert the file"
      ]
    },
    {
      "cell_type": "code",
      "execution_count": 4,
      "metadata": {
        "id": "XgBr1M4HaKVC"
      },
      "outputs": [],
      "source": [
        "import numpy as np\n",
        "import pandas as pd\n",
        "import matplotlib.pyplot as plt\n",
        "import cv2\n",
        "import tensorflow as tf\n",
        "from PIL import Image\n",
        "import os\n",
        "from sklearn.model_selection import train_test_split\n",
        "\n",
        "# Uncomment the below if your tensorflow is 2.x\n",
        "from tensorflow.keras.utils import to_categorical\n",
        "from tensorflow.keras.models import Sequential, load_model\n",
        "from tensorflow.keras.layers import Conv2D, MaxPool2D, Dense, Flatten, Dropout"
      ]
    },
    {
      "cell_type": "code",
      "source": [
        "print(tf.__version__)"
      ],
      "metadata": {
        "colab": {
          "base_uri": "https://localhost:8080/"
        },
        "id": "L0Y1ige6iaTC",
        "outputId": "791ed350-67aa-4b23-9fc5-ba45a4465f5f"
      },
      "execution_count": 5,
      "outputs": [
        {
          "output_type": "stream",
          "name": "stdout",
          "text": [
            "2.18.0\n"
          ]
        }
      ]
    },
    {
      "cell_type": "markdown",
      "metadata": {
        "id": "E2LwFXx3aKVC"
      },
      "source": [
        "# Section 3: Data Exploration\n",
        "Let's prepare the data so that it's ready for the modeling."
      ]
    },
    {
      "cell_type": "code",
      "execution_count": 7,
      "metadata": {
        "id": "KsnEFQI5aKVD"
      },
      "outputs": [],
      "source": [
        "# Let's initialize some variables\n",
        "data = []\n",
        "labels = []\n",
        "classes = 43\n",
        "current_path = os.getcwd()"
      ]
    },
    {
      "cell_type": "code",
      "source": [
        "from google.colab import files\n",
        "files.upload()\n",
        "# importing my kaggle.json"
      ],
      "metadata": {
        "colab": {
          "base_uri": "https://localhost:8080/",
          "height": 90
        },
        "id": "KexZevyqBceQ",
        "outputId": "8ffb0305-cb5a-4132-f027-0ef23a1be760"
      },
      "execution_count": 8,
      "outputs": [
        {
          "output_type": "display_data",
          "data": {
            "text/plain": [
              "<IPython.core.display.HTML object>"
            ],
            "text/html": [
              "\n",
              "     <input type=\"file\" id=\"files-4b457cd2-c017-48f2-932a-d7516807d61e\" name=\"files[]\" multiple disabled\n",
              "        style=\"border:none\" />\n",
              "     <output id=\"result-4b457cd2-c017-48f2-932a-d7516807d61e\">\n",
              "      Upload widget is only available when the cell has been executed in the\n",
              "      current browser session. Please rerun this cell to enable.\n",
              "      </output>\n",
              "      <script>// Copyright 2017 Google LLC\n",
              "//\n",
              "// Licensed under the Apache License, Version 2.0 (the \"License\");\n",
              "// you may not use this file except in compliance with the License.\n",
              "// You may obtain a copy of the License at\n",
              "//\n",
              "//      http://www.apache.org/licenses/LICENSE-2.0\n",
              "//\n",
              "// Unless required by applicable law or agreed to in writing, software\n",
              "// distributed under the License is distributed on an \"AS IS\" BASIS,\n",
              "// WITHOUT WARRANTIES OR CONDITIONS OF ANY KIND, either express or implied.\n",
              "// See the License for the specific language governing permissions and\n",
              "// limitations under the License.\n",
              "\n",
              "/**\n",
              " * @fileoverview Helpers for google.colab Python module.\n",
              " */\n",
              "(function(scope) {\n",
              "function span(text, styleAttributes = {}) {\n",
              "  const element = document.createElement('span');\n",
              "  element.textContent = text;\n",
              "  for (const key of Object.keys(styleAttributes)) {\n",
              "    element.style[key] = styleAttributes[key];\n",
              "  }\n",
              "  return element;\n",
              "}\n",
              "\n",
              "// Max number of bytes which will be uploaded at a time.\n",
              "const MAX_PAYLOAD_SIZE = 100 * 1024;\n",
              "\n",
              "function _uploadFiles(inputId, outputId) {\n",
              "  const steps = uploadFilesStep(inputId, outputId);\n",
              "  const outputElement = document.getElementById(outputId);\n",
              "  // Cache steps on the outputElement to make it available for the next call\n",
              "  // to uploadFilesContinue from Python.\n",
              "  outputElement.steps = steps;\n",
              "\n",
              "  return _uploadFilesContinue(outputId);\n",
              "}\n",
              "\n",
              "// This is roughly an async generator (not supported in the browser yet),\n",
              "// where there are multiple asynchronous steps and the Python side is going\n",
              "// to poll for completion of each step.\n",
              "// This uses a Promise to block the python side on completion of each step,\n",
              "// then passes the result of the previous step as the input to the next step.\n",
              "function _uploadFilesContinue(outputId) {\n",
              "  const outputElement = document.getElementById(outputId);\n",
              "  const steps = outputElement.steps;\n",
              "\n",
              "  const next = steps.next(outputElement.lastPromiseValue);\n",
              "  return Promise.resolve(next.value.promise).then((value) => {\n",
              "    // Cache the last promise value to make it available to the next\n",
              "    // step of the generator.\n",
              "    outputElement.lastPromiseValue = value;\n",
              "    return next.value.response;\n",
              "  });\n",
              "}\n",
              "\n",
              "/**\n",
              " * Generator function which is called between each async step of the upload\n",
              " * process.\n",
              " * @param {string} inputId Element ID of the input file picker element.\n",
              " * @param {string} outputId Element ID of the output display.\n",
              " * @return {!Iterable<!Object>} Iterable of next steps.\n",
              " */\n",
              "function* uploadFilesStep(inputId, outputId) {\n",
              "  const inputElement = document.getElementById(inputId);\n",
              "  inputElement.disabled = false;\n",
              "\n",
              "  const outputElement = document.getElementById(outputId);\n",
              "  outputElement.innerHTML = '';\n",
              "\n",
              "  const pickedPromise = new Promise((resolve) => {\n",
              "    inputElement.addEventListener('change', (e) => {\n",
              "      resolve(e.target.files);\n",
              "    });\n",
              "  });\n",
              "\n",
              "  const cancel = document.createElement('button');\n",
              "  inputElement.parentElement.appendChild(cancel);\n",
              "  cancel.textContent = 'Cancel upload';\n",
              "  const cancelPromise = new Promise((resolve) => {\n",
              "    cancel.onclick = () => {\n",
              "      resolve(null);\n",
              "    };\n",
              "  });\n",
              "\n",
              "  // Wait for the user to pick the files.\n",
              "  const files = yield {\n",
              "    promise: Promise.race([pickedPromise, cancelPromise]),\n",
              "    response: {\n",
              "      action: 'starting',\n",
              "    }\n",
              "  };\n",
              "\n",
              "  cancel.remove();\n",
              "\n",
              "  // Disable the input element since further picks are not allowed.\n",
              "  inputElement.disabled = true;\n",
              "\n",
              "  if (!files) {\n",
              "    return {\n",
              "      response: {\n",
              "        action: 'complete',\n",
              "      }\n",
              "    };\n",
              "  }\n",
              "\n",
              "  for (const file of files) {\n",
              "    const li = document.createElement('li');\n",
              "    li.append(span(file.name, {fontWeight: 'bold'}));\n",
              "    li.append(span(\n",
              "        `(${file.type || 'n/a'}) - ${file.size} bytes, ` +\n",
              "        `last modified: ${\n",
              "            file.lastModifiedDate ? file.lastModifiedDate.toLocaleDateString() :\n",
              "                                    'n/a'} - `));\n",
              "    const percent = span('0% done');\n",
              "    li.appendChild(percent);\n",
              "\n",
              "    outputElement.appendChild(li);\n",
              "\n",
              "    const fileDataPromise = new Promise((resolve) => {\n",
              "      const reader = new FileReader();\n",
              "      reader.onload = (e) => {\n",
              "        resolve(e.target.result);\n",
              "      };\n",
              "      reader.readAsArrayBuffer(file);\n",
              "    });\n",
              "    // Wait for the data to be ready.\n",
              "    let fileData = yield {\n",
              "      promise: fileDataPromise,\n",
              "      response: {\n",
              "        action: 'continue',\n",
              "      }\n",
              "    };\n",
              "\n",
              "    // Use a chunked sending to avoid message size limits. See b/62115660.\n",
              "    let position = 0;\n",
              "    do {\n",
              "      const length = Math.min(fileData.byteLength - position, MAX_PAYLOAD_SIZE);\n",
              "      const chunk = new Uint8Array(fileData, position, length);\n",
              "      position += length;\n",
              "\n",
              "      const base64 = btoa(String.fromCharCode.apply(null, chunk));\n",
              "      yield {\n",
              "        response: {\n",
              "          action: 'append',\n",
              "          file: file.name,\n",
              "          data: base64,\n",
              "        },\n",
              "      };\n",
              "\n",
              "      let percentDone = fileData.byteLength === 0 ?\n",
              "          100 :\n",
              "          Math.round((position / fileData.byteLength) * 100);\n",
              "      percent.textContent = `${percentDone}% done`;\n",
              "\n",
              "    } while (position < fileData.byteLength);\n",
              "  }\n",
              "\n",
              "  // All done.\n",
              "  yield {\n",
              "    response: {\n",
              "      action: 'complete',\n",
              "    }\n",
              "  };\n",
              "}\n",
              "\n",
              "scope.google = scope.google || {};\n",
              "scope.google.colab = scope.google.colab || {};\n",
              "scope.google.colab._files = {\n",
              "  _uploadFiles,\n",
              "  _uploadFilesContinue,\n",
              "};\n",
              "})(self);\n",
              "</script> "
            ]
          },
          "metadata": {}
        },
        {
          "output_type": "stream",
          "name": "stdout",
          "text": [
            "Saving kaggle.json to kaggle (2).json\n"
          ]
        },
        {
          "output_type": "execute_result",
          "data": {
            "text/plain": [
              "{'kaggle (2).json': b'{\"username\":\"ryannemilligan\",\"key\":\"acbec2f4368fc1585031595751c43d46\"}'}"
            ]
          },
          "metadata": {},
          "execution_count": 8
        }
      ]
    },
    {
      "cell_type": "code",
      "source": [
        "import os\n",
        "os.makedirs('/root/.kaggle', exist_ok=True)\n",
        "!mv kaggle.json /root/.kaggle/\n",
        "!chmod 600 /root/.kaggle/kaggle.json\n"
      ],
      "metadata": {
        "id": "R9jFZqDiBkzv"
      },
      "execution_count": 9,
      "outputs": []
    },
    {
      "cell_type": "code",
      "source": [
        "!kaggle datasets download -d meowmeowmeowmeowmeow/gtsrb-german-traffic-sign\n",
        "#importing dataset and directly from kaggle"
      ],
      "metadata": {
        "colab": {
          "base_uri": "https://localhost:8080/"
        },
        "id": "oR9_YiEBBv97",
        "outputId": "00ef5198-f74d-4643-f009-f523077f9707"
      },
      "execution_count": 10,
      "outputs": [
        {
          "output_type": "stream",
          "name": "stdout",
          "text": [
            "Dataset URL: https://www.kaggle.com/datasets/meowmeowmeowmeowmeow/gtsrb-german-traffic-sign\n",
            "License(s): CC0-1.0\n",
            "Downloading gtsrb-german-traffic-sign.zip to /content\n",
            " 98% 599M/612M [00:03<00:00, 141MB/s]\n",
            "100% 612M/612M [00:03<00:00, 178MB/s]\n"
          ]
        }
      ]
    },
    {
      "cell_type": "code",
      "source": [
        "!unzip -q gtsrb-german-traffic-sign.zip -d /content/train\n"
      ],
      "metadata": {
        "id": "JrTDTnnEB20g"
      },
      "execution_count": 11,
      "outputs": []
    },
    {
      "cell_type": "code",
      "execution_count": 12,
      "metadata": {
        "id": "tVzUlAfxaKVD"
      },
      "outputs": [],
      "source": [
        "# Retrieve the images and their labels\n",
        "import os\n",
        "from PIL import Image\n",
        "import numpy as np\n",
        "\n",
        "data = []\n",
        "labels = []\n",
        "classes = 43\n",
        "current_path = '/content/train'\n",
        "\n",
        "\n",
        "for i in range(classes):\n",
        "    path = os.path.join(current_path, 'train', str(i))\n",
        "    images = os.listdir(path)\n",
        "\n",
        "    for a in images:\n",
        "        try:\n",
        "            image_path = os.path.join(path, a)\n",
        "            image = Image.open(image_path)\n",
        "            image = image.resize((30, 30))\n",
        "            image = np.array(image)\n",
        "            data.append(image)\n",
        "            labels.append(i)\n",
        "        except Exception as e:\n",
        "            print(f\"Error loading image {a}: {e}\")\n"
      ]
    },
    {
      "cell_type": "markdown",
      "metadata": {
        "id": "iyPgVAj-aKVD"
      },
      "source": [
        "## Train Test Split\n",
        "Do you still remember how to split your data into training data and testing data? <br>\n",
        "For easy reference, you need to create: X_train, X_test, y_train, y_test <br>\n",
        "\n",
        "What ratio will you use to do the split? <br>\n",
        "Common ratios are 70:30 and 80:20."
      ]
    },
    {
      "cell_type": "code",
      "execution_count": 13,
      "metadata": {
        "id": "ZmqmaIY6aKVE",
        "outputId": "98eb61d7-cebe-4be6-8d28-8fa5aeece48b",
        "colab": {
          "base_uri": "https://localhost:8080/"
        }
      },
      "outputs": [
        {
          "output_type": "stream",
          "name": "stdout",
          "text": [
            "(39209, 30, 30, 3) (39209,)\n",
            "(31367, 30, 30, 3) (7842, 30, 30, 3) (31367,) (7842,)\n"
          ]
        }
      ],
      "source": [
        "# Convert lists into numpy arrays\n",
        "data = np.array(data)\n",
        "labels = np.array(labels)\n",
        "\n",
        "print(data.shape, labels.shape)\n",
        "\n",
        "# Your answers here!\n",
        "#Split into training data and testing data\n",
        "X_train, X_test, y_train, y_test = train_test_split(\n",
        "    data, labels, test_size=0.2, random_state=42, stratify=labels\n",
        ")\n",
        "\n",
        "print(X_train.shape, X_test.shape, y_train.shape, y_test.shape)"
      ]
    },
    {
      "cell_type": "markdown",
      "source": [
        "31,367 training images and 7,842 testing images.\n",
        "\n",
        "Each image is 30x30 pixels with 3 color channels (RGB).\n",
        "\n",
        "Arrays match the image counts exactly."
      ],
      "metadata": {
        "id": "UjS2B9cPEYft"
      }
    },
    {
      "cell_type": "markdown",
      "metadata": {
        "id": "WtkuGvKCaKVF"
      },
      "source": [
        "## One Hot Encoding\n",
        "\n",
        "Usually, numbers in Machine Learning algorithms mean ranking or importance. <br>\n",
        "However, some input data do not have any ranking. This may lead to poor predictions. <br>\n",
        "Therefore, we need to use one hot encoding to solve the above problem. <br>\n",
        "Do you still remember how to do that? <br>\n",
        "Write your answer in the cell below."
      ]
    },
    {
      "cell_type": "code",
      "execution_count": 14,
      "metadata": {
        "id": "VWiFOfntaKVF",
        "colab": {
          "base_uri": "https://localhost:8080/"
        },
        "outputId": "38f74815-21b8-4acd-a8a2-8268fc6d27d8"
      },
      "outputs": [
        {
          "output_type": "stream",
          "name": "stdout",
          "text": [
            "(39209, 43)\n"
          ]
        }
      ],
      "source": [
        "# Your answers here!\n",
        "# Convert the labels into one hot encoding\n",
        "\n",
        "from tensorflow.keras.utils import to_categorical\n",
        "\n",
        "one_hot_labels = to_categorical(labels, num_classes=43)\n",
        "\n",
        "print(one_hot_labels.shape)  # Should be (num_samples, 43)\n",
        "\n",
        "y_train = to_categorical(y_train, num_classes=43)\n",
        "y_test = to_categorical(y_test, num_classes=43)\n",
        "\n"
      ]
    },
    {
      "cell_type": "markdown",
      "source": [
        "(39209, 43) confirms that my labels are correctly one-hot encoded"
      ],
      "metadata": {
        "id": "8ZitAOvNFVbe"
      }
    },
    {
      "cell_type": "markdown",
      "metadata": {
        "id": "Gct-vOPKaKVG"
      },
      "source": [
        "# Section 4: Modeling\n",
        "We will be building our Neural Network. <br>\n",
        "Do you still remember how it looks like? <br>\n",
        "\n",
        "There are different layers, each with different purposes:\n",
        "1. Conv2D : it is a 2D convolution layer to produce a tensor of outputs.\n",
        "2. MaxPool2D : it reduces the size by sampling the maximum value in the region.\n",
        "3. Dropout : it drops some neural network connections to prevent overfitting. <br>\n",
        "\n",
        "In the cell below, create your own Neural Network model. <br>\n",
        "You can experiment by mixing layers of Conv2D, MaxPool2D, and Dropout, of varying parameters."
      ]
    },
    {
      "cell_type": "code",
      "execution_count": 15,
      "metadata": {
        "id": "NFioKAA7aKVG",
        "colab": {
          "base_uri": "https://localhost:8080/"
        },
        "outputId": "bc9bd136-af0a-4b05-9f3b-34fabe0842e1"
      },
      "outputs": [
        {
          "output_type": "stream",
          "name": "stderr",
          "text": [
            "/usr/local/lib/python3.11/dist-packages/keras/src/layers/convolutional/base_conv.py:107: UserWarning: Do not pass an `input_shape`/`input_dim` argument to a layer. When using Sequential models, prefer using an `Input(shape)` object as the first layer in the model instead.\n",
            "  super().__init__(activity_regularizer=activity_regularizer, **kwargs)\n"
          ]
        }
      ],
      "source": [
        "from tensorflow.keras.models import Sequential\n",
        "from tensorflow.keras.layers import Conv2D, MaxPool2D, Dropout, Flatten, Dense\n",
        "\n",
        "#Build the model\n",
        "model = Sequential()\n",
        "\n",
        "model.add(Conv2D(16, (3,3), activation='relu', input_shape=(30,30,3)))\n",
        "model.add(MaxPool2D((2,2)))\n",
        "\n",
        "model.add(Flatten())\n",
        "model.add(Dense(64, activation='relu'))\n",
        "\n",
        "model.add(Dense(43, activation='softmax'))\n",
        "\n",
        "\n",
        "\n",
        "\n",
        "\n",
        "\n",
        "\n",
        "\n",
        "\n",
        "\n",
        "\n",
        "\n",
        "\n",
        "\n"
      ]
    },
    {
      "cell_type": "markdown",
      "metadata": {
        "id": "nRFArh6CaKVG"
      },
      "source": [
        "## Compilation\n",
        "You will need to determine what is the metrics for your model. <br>\n",
        "You've learned about binary_crossentropy and categorical_crossentropy. <br>\n",
        "You've also learned about the different optimizers (ADAM, SGD, etc)."
      ]
    },
    {
      "cell_type": "code",
      "execution_count": 16,
      "metadata": {
        "id": "idPB1qsyaKVH"
      },
      "outputs": [],
      "source": [
        "# Your answers here!\n",
        "# Compile the model\n",
        "\n",
        "model.compile(\n",
        "    loss='categorical_crossentropy',\n",
        "    optimizer='adam',\n",
        "    metrics=['accuracy']\n",
        ")\n",
        "\n"
      ]
    },
    {
      "cell_type": "markdown",
      "metadata": {
        "id": "6FE2TQffaKVH"
      },
      "source": [
        "## How long do you want to train your model?\n",
        "You can determine how many cycles you want to run. <br>\n",
        "In Machine Learning, a cycle is called an epoch. <br>\n",
        "Theoretically, the more epoch will lead to higher acuracy. However, it may lead to overfitting. <br>\n",
        "You can also determine the size of each batch. The bigger the batch size, the more data it will be tested at one time. <br>\n",
        "However, it will be more taxing on your computing resources too. <br>\n",
        "\n",
        "In the cell below, indicate your epoch, batch_size, and the code for model.fit()."
      ]
    },
    {
      "cell_type": "code",
      "execution_count": 17,
      "metadata": {
        "id": "Q2b_3EDwaKVI",
        "outputId": "6db5bc74-0bde-4782-9201-090349dcd5d6",
        "colab": {
          "base_uri": "https://localhost:8080/"
        }
      },
      "outputs": [
        {
          "output_type": "stream",
          "name": "stdout",
          "text": [
            "Epoch 1/10\n",
            "\u001b[1m981/981\u001b[0m \u001b[32m━━━━━━━━━━━━━━━━━━━━\u001b[0m\u001b[37m\u001b[0m \u001b[1m21s\u001b[0m 19ms/step - accuracy: 0.0544 - loss: 7.9461 - val_accuracy: 0.0566 - val_loss: 3.5571\n",
            "Epoch 2/10\n",
            "\u001b[1m981/981\u001b[0m \u001b[32m━━━━━━━━━━━━━━━━━━━━\u001b[0m\u001b[37m\u001b[0m \u001b[1m19s\u001b[0m 18ms/step - accuracy: 0.0556 - loss: 3.5371 - val_accuracy: 0.0566 - val_loss: 3.5028\n",
            "Epoch 3/10\n",
            "\u001b[1m981/981\u001b[0m \u001b[32m━━━━━━━━━━━━━━━━━━━━\u001b[0m\u001b[37m\u001b[0m \u001b[1m20s\u001b[0m 18ms/step - accuracy: 0.0555 - loss: 3.4982 - val_accuracy: 0.0574 - val_loss: 3.4897\n",
            "Epoch 4/10\n",
            "\u001b[1m981/981\u001b[0m \u001b[32m━━━━━━━━━━━━━━━━━━━━\u001b[0m\u001b[37m\u001b[0m \u001b[1m21s\u001b[0m 18ms/step - accuracy: 0.0554 - loss: 3.4950 - val_accuracy: 0.0574 - val_loss: 3.4868\n",
            "Epoch 5/10\n",
            "\u001b[1m981/981\u001b[0m \u001b[32m━━━━━━━━━━━━━━━━━━━━\u001b[0m\u001b[37m\u001b[0m \u001b[1m17s\u001b[0m 17ms/step - accuracy: 0.0552 - loss: 3.4896 - val_accuracy: 0.0574 - val_loss: 3.4859\n",
            "Epoch 6/10\n",
            "\u001b[1m981/981\u001b[0m \u001b[32m━━━━━━━━━━━━━━━━━━━━\u001b[0m\u001b[37m\u001b[0m \u001b[1m17s\u001b[0m 17ms/step - accuracy: 0.0562 - loss: 3.4843 - val_accuracy: 0.0574 - val_loss: 3.4856\n",
            "Epoch 7/10\n",
            "\u001b[1m981/981\u001b[0m \u001b[32m━━━━━━━━━━━━━━━━━━━━\u001b[0m\u001b[37m\u001b[0m \u001b[1m18s\u001b[0m 19ms/step - accuracy: 0.0572 - loss: 3.4905 - val_accuracy: 0.0574 - val_loss: 3.4855\n",
            "Epoch 8/10\n",
            "\u001b[1m981/981\u001b[0m \u001b[32m━━━━━━━━━━━━━━━━━━━━\u001b[0m\u001b[37m\u001b[0m \u001b[1m22s\u001b[0m 21ms/step - accuracy: 0.0586 - loss: 3.4816 - val_accuracy: 0.0574 - val_loss: 3.4855\n",
            "Epoch 9/10\n",
            "\u001b[1m981/981\u001b[0m \u001b[32m━━━━━━━━━━━━━━━━━━━━\u001b[0m\u001b[37m\u001b[0m \u001b[1m20s\u001b[0m 20ms/step - accuracy: 0.0576 - loss: 3.4850 - val_accuracy: 0.0574 - val_loss: 3.4855\n",
            "Epoch 10/10\n",
            "\u001b[1m981/981\u001b[0m \u001b[32m━━━━━━━━━━━━━━━━━━━━\u001b[0m\u001b[37m\u001b[0m \u001b[1m18s\u001b[0m 19ms/step - accuracy: 0.0572 - loss: 3.4873 - val_accuracy: 0.0574 - val_loss: 3.4855\n"
          ]
        }
      ],
      "source": [
        "# Your answers here!\n",
        "\n",
        "epochs = 10\n",
        "batch_size = 32\n",
        "\n",
        "history = model.fit(\n",
        "    X_train, y_train,\n",
        "    batch_size=batch_size,\n",
        "    epochs=epochs,\n",
        "    validation_data=(X_test, y_test),\n",
        "    shuffle=True\n",
        ")\n"
      ]
    },
    {
      "cell_type": "markdown",
      "metadata": {
        "id": "3XkfIop5aKVI"
      },
      "source": [
        "# Section 5: Evaluation\n",
        "We want to check the performance of our model. <br>\n",
        "We want to know the accuracy of the results. <br>\n",
        "Do you know how to identify underfitting and overfitting (if any) from the below graphs?"
      ]
    },
    {
      "cell_type": "code",
      "execution_count": 18,
      "metadata": {
        "id": "TBxGaIdkaKVI",
        "outputId": "d8b40f0a-69e3-4c64-e229-533c2f1f093c",
        "colab": {
          "base_uri": "https://localhost:8080/",
          "height": 564
        }
      },
      "outputs": [
        {
          "output_type": "display_data",
          "data": {
            "text/plain": [
              "<Figure size 800x600 with 1 Axes>"
            ],
            "image/png": "[encoded data removed]"
          },
          "metadata": {}
        }
      ],
      "source": [
        "# Your answers here!\n",
        "\n",
        "# plot the graph for accuracy\n",
        "\n",
        "import matplotlib.pyplot as plt\n",
        "\n",
        "plt.figure(figsize=(8,6))\n",
        "plt.plot(history.history['accuracy'], label='Training Accuracy')\n",
        "plt.plot(history.history['val_accuracy'], label='Validation Accuracy')\n",
        "plt.title('Model Accuracy')\n",
        "plt.xlabel('Epoch')\n",
        "plt.ylabel('Accuracy')\n",
        "plt.legend()\n",
        "plt.grid(True)\n",
        "plt.show()\n",
        "\n",
        "\n",
        "\n",
        "\n",
        "\n",
        "\n",
        "\n"
      ]
    },
    {
      "cell_type": "code",
      "execution_count": 19,
      "metadata": {
        "id": "JMbQHoMMaKVJ",
        "outputId": "a8ffa9b1-0363-4a50-bfcf-5c5d5a254060",
        "colab": {
          "base_uri": "https://localhost:8080/",
          "height": 564
        }
      },
      "outputs": [
        {
          "output_type": "display_data",
          "data": {
            "text/plain": [
              "<Figure size 800x600 with 1 Axes>"
            ],
            "image/png": "[encoded data removed]"
          },
          "metadata": {}
        }
      ],
      "source": [
        "# Your answers here!\n",
        "\n",
        "# plot the graph for loss\n",
        "\n",
        "import matplotlib.pyplot as plt\n",
        "\n",
        "plt.figure(figsize=(8,6))\n",
        "plt.plot(history.history['loss'], label='Training Loss')\n",
        "plt.plot(history.history['val_loss'], label='Validation Loss')\n",
        "plt.title('Model Loss')\n",
        "plt.xlabel('Epoch')\n",
        "plt.ylabel('Loss')\n",
        "plt.legend()\n",
        "plt.grid(True)\n",
        "plt.show()\n",
        "\n",
        "\n",
        "\n",
        "\n",
        "\n"
      ]
    },
    {
      "cell_type": "markdown",
      "metadata": {
        "id": "lBb0bU7MaKVK"
      },
      "source": [
        "## Evaluate using Test Dataset\n",
        "Just now, we evaluated the model using the data from the training dataset. <br>\n",
        "Now, we will evaluate using Test.csv, which is the data that the model has never seen before."
      ]
    },
    {
      "cell_type": "code",
      "execution_count": 22,
      "metadata": {
        "id": "gF4feGbeaKVK"
      },
      "outputs": [],
      "source": [
        "# test accuracy on test dataset\n",
        "from sklearn.metrics import accuracy_score\n",
        "\n",
        "y_test = pd.read_csv('/content/train/Test.csv')\n",
        "\n",
        "labels = y_test[\"ClassId\"].values\n",
        "imgs = y_test[\"Path\"].values\n",
        "\n",
        "data=[]"
      ]
    },
    {
      "cell_type": "code",
      "source": [
        "for i, path in enumerate(imgs[:5]):\n",
        "    print(f\"Original path {i}: {path}\")\n",
        "\n",
        "if imgs[0].startswith('/content/train/'):\n",
        "    print(\"Paths already have full prefix. Using as is.\")\n",
        "else:\n",
        "    print(\"Paths are relative. Prepending '/content/train/'\")\n",
        "    imgs = ['/content/train/' + path for path in imgs]\n"
      ],
      "metadata": {
        "colab": {
          "base_uri": "https://localhost:8080/"
        },
        "id": "nlJ9hex8RJqe",
        "outputId": "5ba48e8d-dfb4-43ef-b193-4ae5fcb28ae8"
      },
      "execution_count": 31,
      "outputs": [
        {
          "output_type": "stream",
          "name": "stdout",
          "text": [
            "Original path 0: /content/train//content/train//content/train/test/Test/00000.png\n",
            "Original path 1: /content/train//content/train//content/train/test/Test/00001.png\n",
            "Original path 2: /content/train//content/train//content/train/test/Test/00002.png\n",
            "Original path 3: /content/train//content/train//content/train/test/Test/00003.png\n",
            "Original path 4: /content/train//content/train//content/train/test/Test/00004.png\n",
            "Paths already have full prefix. Using as is.\n"
          ]
        }
      ]
    },
    {
      "cell_type": "code",
      "source": [
        "y_test = pd.read_csv('/content/train/Test.csv')\n",
        "labels = y_test[\"ClassId\"].values\n",
        "imgs = y_test[\"Path\"].values\n"
      ],
      "metadata": {
        "id": "KiVfq7luRVJH"
      },
      "execution_count": 32,
      "outputs": []
    },
    {
      "cell_type": "code",
      "source": [
        "imgs = ['/content/train/test/' + path for path in imgs]\n"
      ],
      "metadata": {
        "id": "trLx53FARZoF"
      },
      "execution_count": 34,
      "outputs": []
    },
    {
      "cell_type": "code",
      "execution_count": 36,
      "metadata": {
        "id": "jaP56iypaKVK",
        "colab": {
          "base_uri": "https://localhost:8080/"
        },
        "outputId": "248be2c4-8260-4f65-9485-f56b4bb06427"
      },
      "outputs": [
        {
          "output_type": "stream",
          "name": "stdout",
          "text": [
            "Loaded 12630 images.\n"
          ]
        }
      ],
      "source": [
        "# Fix the broken paths\n",
        "from PIL import Image\n",
        "import numpy as np\n",
        "import pandas as pd\n",
        "\n",
        "\n",
        "# Reload CSV so imgs are clean\n",
        "y_test = pd.read_csv('/content/train/Test.csv')\n",
        "labels = y_test[\"ClassId\"].values\n",
        "imgs = y_test[\"Path\"].values\n",
        "\n",
        "# Prepend full folder path only once\n",
        "imgs = ['/content/train/' + path for path in imgs]\n",
        "\n",
        "data = []\n",
        "for img in imgs:\n",
        "    try:\n",
        "        image = Image.open(img)\n",
        "        image = image.resize((30, 30))\n",
        "        data.append(np.array(image))\n",
        "    except Exception as e:\n",
        "        print(f\"Error loading {img}: {e}\")\n",
        "\n",
        "X_test = np.array(data)\n",
        "print(f\"Loaded {len(X_test)} images.\")\n",
        "\n"
      ]
    },
    {
      "cell_type": "markdown",
      "metadata": {
        "id": "gVP_ubwgaKVK"
      },
      "source": [
        "## Check accuracy\n",
        "Use accuracy_score from sklearn.metrics to compare the score between the actual labels and predictions."
      ]
    },
    {
      "cell_type": "code",
      "execution_count": 37,
      "metadata": {
        "id": "bQa8BFsPaKVL",
        "outputId": "2df2bbc5-21a3-4480-a836-a912a60afc6a",
        "colab": {
          "base_uri": "https://localhost:8080/"
        }
      },
      "outputs": [
        {
          "output_type": "stream",
          "name": "stdout",
          "text": [
            "Accuracy: 0.0594\n"
          ]
        }
      ],
      "source": [
        "# Your answers here!\n",
        "# Accuracy with the test data\n",
        "from sklearn.metrics import accuracy_score\n",
        "\n",
        "accuracy = accuracy_score(labels, pred)\n",
        "print(f\"Accuracy: {accuracy:.4f}\")\n",
        "\n"
      ]
    },
    {
      "cell_type": "markdown",
      "metadata": {
        "id": "bp5eOP22aKVL"
      },
      "source": [
        "# What is your best model?\n",
        "In order to get the best model, you will need to modify the parameters. <br>\n",
        "Look back at the models in section 4, can you fine-tune them better? <br><br>\n",
        "What is your best model? How does it fare?"
      ]
    },
    {
      "cell_type": "markdown",
      "source": [
        "My model initially had an accuracy of 5.94% which is terrible.  I started with 10 epoch and a batch size of 32.  I then went back and tweaked it to 20 epochs with a batch size of 64."
      ],
      "metadata": {
        "id": "uJ7EhG__Sgpz"
      }
    },
    {
      "cell_type": "markdown",
      "metadata": {
        "id": "RD_Vr6cQaKVL"
      },
      "source": [
        "# Section 6: Deployment\n",
        "What makes a good deployment? <br>\n",
        "It has to be useful and easy to use. <br>\n",
        "It needs to be updated frequently and easily.<br>\n",
        "Deployment can be on-premise or online.<br>\n",
        "\n",
        "In the cell below, write down your suggestions on how you can deploy this AI model."
      ]
    },
    {
      "cell_type": "code",
      "execution_count": null,
      "metadata": {
        "id": "d7HGSy49aKVL"
      },
      "outputs": [],
      "source": [
        "# Your answers here!\n",
        "\n",
        "# Since this is used on autonomous vehicle, it will be used in the embedded system of the car.\n",
        "# The camera feeds from the camera will be captured and analyzed by the model directly."
      ]
    },
    {
      "cell_type": "markdown",
      "metadata": {
        "id": "JgKaDUJ7aKVM"
      },
      "source": [
        "# Other Reading Materials\n",
        "You can get more info through these materials: <br>\n"
      ]
    }
  ],
  "metadata": {
    "kernelspec": {
      "display_name": "Python 3 (ipykernel)",
      "language": "python",
      "name": "python3"
    },
    "language_info": {
      "codemirror_mode": {
        "name": "ipython",
        "version": 3
      },
      "file_extension": ".py",
      "mimetype": "text/x-python",
      "name": "python",
      "nbconvert_exporter": "python",
      "pygments_lexer": "ipython3",
      "version": "3.9.1"
    },
    "colab": {
      "provenance": [],
      "include_colab_link": true
    }
  },
  "nbformat": 4,
  "nbformat_minor": 0
}