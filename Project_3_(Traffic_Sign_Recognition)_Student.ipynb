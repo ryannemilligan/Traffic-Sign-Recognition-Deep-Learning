{
  "cells": [
    {
      "cell_type": "markdown",
      "metadata": {
        "id": "view-in-github",
        "colab_type": "text"
      },
      "source": [
        "<a href=\"https://colab.research.google.com/github/ryannemilligan/Traffic-Sign-Recognition-Deep-Learning/blob/main/Project_3_(Traffic_Sign_Recognition)_Student.ipynb\" target=\"_parent\"><img src=\"https://colab.research.google.com/assets/colab-badge.svg\" alt=\"Open In Colab\"/></a>"
      ]
    },
    {
      "cell_type": "markdown",
      "metadata": {
        "id": "PL8SKjtTaKU8"
      },
      "source": [
        "# Traffic Sign Recognition"
      ]
    },
    {
      "cell_type": "markdown",
      "metadata": {
        "id": "dHmeM2n6aKU9"
      },
      "source": [
        "# The Scenario\n",
        "\n",
        "\"More than 38,000 people die every year in crashes on U.S. roadways. The U.S. traffic fatality rate is 12.4 deaths per 100,000 inhabitants. An additional 4.4 million are injured seriously enough to require medical attention.\" <br>\n",
        "\n",
        "This brings with it the utmost importance to introduce autonomous vehicles to keep the people safe. <br>\n",
        "However, to truly keep the people safe, the vehicles must be able to recognize the traffic signs and act accordingly. <br>\n",
        "\n",
        "You are an AI Engineer with DriveSafe, a company that focuses on building autonomous vehicles.<br>\n",
        "Your current task is to train the vehicles to recognize the traffic signs.<br>\n",
        "\n",
        "Source: https://www.asirt.org/safe-travel/road-safety-facts/\n"
      ]
    },
    {
      "cell_type": "markdown",
      "metadata": {
        "id": "B1NtABwNaKU-"
      },
      "source": [
        "# Tips for working on this project\n",
        "You will be using these three concepts to be able to successfully complete this project:\n",
        "1. Deep Learning models\n",
        "2. AI Project Cycle <br>\n",
        "3. AI Ethics <br>\n",
        "\n",
        "If needed, please revise your notes on these topics."
      ]
    },
    {
      "cell_type": "markdown",
      "metadata": {
        "id": "FaKJM1BhaKU-"
      },
      "source": [
        "# Section 1: Understand the Problem\n",
        "\n",
        "One of the key points of solving an AI problem is to understand the problem statement correctly. <br>\n",
        "You need to understand what is the correct problems that you are solving.<br>\n",
        "You want to solve the root problem and not the symptoms.<br>\n",
        "To do that, you can use tools like 5 Whys, decomposition, and Fish-bone diagram.<br>\n",
        "You can then write your problem statement.<br>\n",
        "It may include helpful information, like who is affected, what is the problem, where is it happening, and when does it happen.<br>\n",
        "\n",
        "Based on the scenario above, write your problem statement in the cell below.<br>"
      ]
    },
    {
      "cell_type": "code",
      "execution_count": 1,
      "metadata": {
        "id": "V0nhYFWwaKU_"
      },
      "outputs": [],
      "source": [
        "# There are a lot of roadway crashes and fatalities in the United States which\n",
        "# signifies a need for increased vehicle safety. Autonomous vehicles are\n",
        "# therefore being developed, but the effectiveness of these vehicles in decreasing\n",
        "# these accidents is only as good as their ability to accurately perceive and then\n",
        "# react to their environment in real time. The problem is then to develop an AI\n",
        "# that is capable of the accuracies of recognizing traffic signs, which will\n",
        "# enable autonomous vehicles to make safe driving decisions to reduce accidents,\n",
        "# injuries, and deaths.\n",
        "\n"
      ]
    },
    {
      "cell_type": "markdown",
      "metadata": {
        "id": "aYEXfZQxaKVA"
      },
      "source": [
        "# Section 2: Data Acquisition\n",
        "\n",
        "Data is the main ingredient for AI model. <br>\n",
        "For a typical scenario for autonomous vehicles, where can you find your data? <br>\n",
        "Write your answer in the cell below. <br>\n",
        "\n",
        "In this scenario, you are given a few files.<br>\n",
        "These files are downloaded from: https://www.kaggle.com/meowmeowmeowmeowmeow/gtsrb-german-traffic-sign <br>\n"
      ]
    },
    {
      "cell_type": "code",
      "execution_count": 2,
      "metadata": {
        "id": "36oTVx5saKVA"
      },
      "outputs": [],
      "source": [
        "# Your answers here!\n"
      ]
    },
    {
      "cell_type": "markdown",
      "metadata": {
        "id": "blXFf5BqaKVA"
      },
      "source": [
        "## The AI Ethics of Handling Data\n",
        "AI Ethics are a vital component in our daily life. <br>\n",
        "What areas of AI Ethics are important in this scenario? <br>\n",
        "What are the implications of ignoring AI Ethics? <br>\n",
        "More importantly, what can you do to uphold AI Ethics in this scenario? <br>\n",
        "Write your answer in the cell below."
      ]
    },
    {
      "cell_type": "code",
      "execution_count": 3,
      "metadata": {
        "id": "HZxbhxsNaKVA"
      },
      "outputs": [],
      "source": [
        "# AI Ethics in Data Handling for Autonomous Vehicles: Privacy issues when\n",
        "# accidentally capturing data on humans, Bias based on not capturing all traffic\n",
        "# signs in weather conditions, lighting, etc.\n",
        "\n",
        "# Implications of Ignoring AI Ethics: Legal issues like lawsuits, safety risks\n",
        "# based on inaccurate models which would go against the whole point of AVs, loss\n",
        "# of trust from the public in AVs, reputation issues with bad publicity.\n",
        "\n",
        "# How to Uphold AI Ethics in this Scenario: Anonymize data to protect the privacy\n",
        "# of humans, license plates, etc, make sure data is diverse ans covers different\n",
        "# regions, lighting conditions, and angles to avoid bias, obtaining proper licensing,\n",
        "# audits regularly, being transparent with the data sources, and lastly human\n",
        "# oversight and QA.\n"
      ]
    },
    {
      "cell_type": "markdown",
      "metadata": {
        "id": "9iYXn54haKVB"
      },
      "source": [
        "# Import libraries and insert the file"
      ]
    },
    {
      "cell_type": "code",
      "execution_count": 4,
      "metadata": {
        "id": "XgBr1M4HaKVC"
      },
      "outputs": [],
      "source": [
        "import numpy as np\n",
        "import pandas as pd\n",
        "import matplotlib.pyplot as plt\n",
        "import cv2\n",
        "import tensorflow as tf\n",
        "from PIL import Image\n",
        "import os\n",
        "from sklearn.model_selection import train_test_split\n",
        "\n",
        "# Uncomment the below if your tensorflow is 2.x\n",
        "from tensorflow.keras.utils import to_categorical\n",
        "from tensorflow.keras.models import Sequential, load_model\n",
        "from tensorflow.keras.layers import Conv2D, MaxPool2D, Dense, Flatten, Dropout"
      ]
    },
    {
      "cell_type": "code",
      "source": [
        "print(tf.__version__)"
      ],
      "metadata": {
        "colab": {
          "base_uri": "https://localhost:8080/"
        },
        "id": "L0Y1ige6iaTC",
        "outputId": "7d3595a6-c7d2-494a-ee92-80b1ddf63219"
      },
      "execution_count": 5,
      "outputs": [
        {
          "output_type": "stream",
          "name": "stdout",
          "text": [
            "2.18.0\n"
          ]
        }
      ]
    },
    {
      "cell_type": "markdown",
      "metadata": {
        "id": "E2LwFXx3aKVC"
      },
      "source": [
        "# Section 3: Data Exploration\n",
        "Let's prepare the data so that it's ready for the modeling."
      ]
    },
    {
      "cell_type": "code",
      "execution_count": 6,
      "metadata": {
        "id": "KsnEFQI5aKVD"
      },
      "outputs": [],
      "source": [
        "# Let's initialize some variables\n",
        "data = [] # initial empty list for data\n",
        "labels = [] # initial empty list for labels\n",
        "classes = 43 # 43 different traffic signs\n",
        "current_path = os.getcwd() # current working directory"
      ]
    },
    {
      "cell_type": "code",
      "source": [
        "from google.colab import files\n",
        "files.upload()\n",
        "# import kaggle.json file to import directly from kaggle"
      ],
      "metadata": {
        "colab": {
          "base_uri": "https://localhost:8080/",
          "height": 90
        },
        "id": "KexZevyqBceQ",
        "outputId": "8adb6990-e634-4e81-d102-98b09078411f"
      },
      "execution_count": 7,
      "outputs": [
        {
          "output_type": "display_data",
          "data": {
            "text/plain": [
              "<IPython.core.display.HTML object>"
            ],
            "text/html": [
              "\n",
              "     <input type=\"file\" id=\"files-fc2bb23d-5ce8-4d42-b525-6b49a6e9a68d\" name=\"files[]\" multiple disabled\n",
              "        style=\"border:none\" />\n",
              "     <output id=\"result-fc2bb23d-5ce8-4d42-b525-6b49a6e9a68d\">\n",
              "      Upload widget is only available when the cell has been executed in the\n",
              "      current browser session. Please rerun this cell to enable.\n",
              "      </output>\n",
              "      <script>// Copyright 2017 Google LLC\n",
              "//\n",
              "// Licensed under the Apache License, Version 2.0 (the \"License\");\n",
              "// you may not use this file except in compliance with the License.\n",
              "// You may obtain a copy of the License at\n",
              "//\n",
              "//      http://www.apache.org/licenses/LICENSE-2.0\n",
              "//\n",
              "// Unless required by applicable law or agreed to in writing, software\n",
              "// distributed under the License is distributed on an \"AS IS\" BASIS,\n",
              "// WITHOUT WARRANTIES OR CONDITIONS OF ANY KIND, either express or implied.\n",
              "// See the License for the specific language governing permissions and\n",
              "// limitations under the License.\n",
              "\n",
              "/**\n",
              " * @fileoverview Helpers for google.colab Python module.\n",
              " */\n",
              "(function(scope) {\n",
              "function span(text, styleAttributes = {}) {\n",
              "  const element = document.createElement('span');\n",
              "  element.textContent = text;\n",
              "  for (const key of Object.keys(styleAttributes)) {\n",
              "    element.style[key] = styleAttributes[key];\n",
              "  }\n",
              "  return element;\n",
              "}\n",
              "\n",
              "// Max number of bytes which will be uploaded at a time.\n",
              "const MAX_PAYLOAD_SIZE = 100 * 1024;\n",
              "\n",
              "function _uploadFiles(inputId, outputId) {\n",
              "  const steps = uploadFilesStep(inputId, outputId);\n",
              "  const outputElement = document.getElementById(outputId);\n",
              "  // Cache steps on the outputElement to make it available for the next call\n",
              "  // to uploadFilesContinue from Python.\n",
              "  outputElement.steps = steps;\n",
              "\n",
              "  return _uploadFilesContinue(outputId);\n",
              "}\n",
              "\n",
              "// This is roughly an async generator (not supported in the browser yet),\n",
              "// where there are multiple asynchronous steps and the Python side is going\n",
              "// to poll for completion of each step.\n",
              "// This uses a Promise to block the python side on completion of each step,\n",
              "// then passes the result of the previous step as the input to the next step.\n",
              "function _uploadFilesContinue(outputId) {\n",
              "  const outputElement = document.getElementById(outputId);\n",
              "  const steps = outputElement.steps;\n",
              "\n",
              "  const next = steps.next(outputElement.lastPromiseValue);\n",
              "  return Promise.resolve(next.value.promise).then((value) => {\n",
              "    // Cache the last promise value to make it available to the next\n",
              "    // step of the generator.\n",
              "    outputElement.lastPromiseValue = value;\n",
              "    return next.value.response;\n",
              "  });\n",
              "}\n",
              "\n",
              "/**\n",
              " * Generator function which is called between each async step of the upload\n",
              " * process.\n",
              " * @param {string} inputId Element ID of the input file picker element.\n",
              " * @param {string} outputId Element ID of the output display.\n",
              " * @return {!Iterable<!Object>} Iterable of next steps.\n",
              " */\n",
              "function* uploadFilesStep(inputId, outputId) {\n",
              "  const inputElement = document.getElementById(inputId);\n",
              "  inputElement.disabled = false;\n",
              "\n",
              "  const outputElement = document.getElementById(outputId);\n",
              "  outputElement.innerHTML = '';\n",
              "\n",
              "  const pickedPromise = new Promise((resolve) => {\n",
              "    inputElement.addEventListener('change', (e) => {\n",
              "      resolve(e.target.files);\n",
              "    });\n",
              "  });\n",
              "\n",
              "  const cancel = document.createElement('button');\n",
              "  inputElement.parentElement.appendChild(cancel);\n",
              "  cancel.textContent = 'Cancel upload';\n",
              "  const cancelPromise = new Promise((resolve) => {\n",
              "    cancel.onclick = () => {\n",
              "      resolve(null);\n",
              "    };\n",
              "  });\n",
              "\n",
              "  // Wait for the user to pick the files.\n",
              "  const files = yield {\n",
              "    promise: Promise.race([pickedPromise, cancelPromise]),\n",
              "    response: {\n",
              "      action: 'starting',\n",
              "    }\n",
              "  };\n",
              "\n",
              "  cancel.remove();\n",
              "\n",
              "  // Disable the input element since further picks are not allowed.\n",
              "  inputElement.disabled = true;\n",
              "\n",
              "  if (!files) {\n",
              "    return {\n",
              "      response: {\n",
              "        action: 'complete',\n",
              "      }\n",
              "    };\n",
              "  }\n",
              "\n",
              "  for (const file of files) {\n",
              "    const li = document.createElement('li');\n",
              "    li.append(span(file.name, {fontWeight: 'bold'}));\n",
              "    li.append(span(\n",
              "        `(${file.type || 'n/a'}) - ${file.size} bytes, ` +\n",
              "        `last modified: ${\n",
              "            file.lastModifiedDate ? file.lastModifiedDate.toLocaleDateString() :\n",
              "                                    'n/a'} - `));\n",
              "    const percent = span('0% done');\n",
              "    li.appendChild(percent);\n",
              "\n",
              "    outputElement.appendChild(li);\n",
              "\n",
              "    const fileDataPromise = new Promise((resolve) => {\n",
              "      const reader = new FileReader();\n",
              "      reader.onload = (e) => {\n",
              "        resolve(e.target.result);\n",
              "      };\n",
              "      reader.readAsArrayBuffer(file);\n",
              "    });\n",
              "    // Wait for the data to be ready.\n",
              "    let fileData = yield {\n",
              "      promise: fileDataPromise,\n",
              "      response: {\n",
              "        action: 'continue',\n",
              "      }\n",
              "    };\n",
              "\n",
              "    // Use a chunked sending to avoid message size limits. See b/62115660.\n",
              "    let position = 0;\n",
              "    do {\n",
              "      const length = Math.min(fileData.byteLength - position, MAX_PAYLOAD_SIZE);\n",
              "      const chunk = new Uint8Array(fileData, position, length);\n",
              "      position += length;\n",
              "\n",
              "      const base64 = btoa(String.fromCharCode.apply(null, chunk));\n",
              "      yield {\n",
              "        response: {\n",
              "          action: 'append',\n",
              "          file: file.name,\n",
              "          data: base64,\n",
              "        },\n",
              "      };\n",
              "\n",
              "      let percentDone = fileData.byteLength === 0 ?\n",
              "          100 :\n",
              "          Math.round((position / fileData.byteLength) * 100);\n",
              "      percent.textContent = `${percentDone}% done`;\n",
              "\n",
              "    } while (position < fileData.byteLength);\n",
              "  }\n",
              "\n",
              "  // All done.\n",
              "  yield {\n",
              "    response: {\n",
              "      action: 'complete',\n",
              "    }\n",
              "  };\n",
              "}\n",
              "\n",
              "scope.google = scope.google || {};\n",
              "scope.google.colab = scope.google.colab || {};\n",
              "scope.google.colab._files = {\n",
              "  _uploadFiles,\n",
              "  _uploadFilesContinue,\n",
              "};\n",
              "})(self);\n",
              "</script> "
            ]
          },
          "metadata": {}
        },
        {
          "output_type": "stream",
          "name": "stdout",
          "text": [
            "Saving kaggle.json to kaggle.json\n"
          ]
        },
        {
          "output_type": "execute_result",
          "data": {
            "text/plain": [
              "{'kaggle.json': b'{\"username\":\"ryannemilligan\",\"key\":\"5e329b2127e598a174846cb699baed36\"}'}"
            ]
          },
          "metadata": {},
          "execution_count": 7
        }
      ]
    },
    {
      "cell_type": "code",
      "source": [
        "import os # operating system\n",
        "os.makedirs('/root/.kaggle', exist_ok=True) # make directory in root called kaggle\n",
        "!mv kaggle.json /root/.kaggle/ # moves the kaggle.json file into the kaggle folder\n",
        "!chmod 600 /root/.kaggle/kaggle.json # permissions\n"
      ],
      "metadata": {
        "id": "R9jFZqDiBkzv"
      },
      "execution_count": 8,
      "outputs": []
    },
    {
      "cell_type": "code",
      "source": [
        "!kaggle datasets download -d meowmeowmeowmeowmeow/gtsrb-german-traffic-sign\n",
        "#importing large dataset directly from kaggle"
      ],
      "metadata": {
        "colab": {
          "base_uri": "https://localhost:8080/"
        },
        "id": "oR9_YiEBBv97",
        "outputId": "4e7f3f72-f8df-4c57-dbdc-e55e3bda6fb6"
      },
      "execution_count": 9,
      "outputs": [
        {
          "output_type": "stream",
          "name": "stdout",
          "text": [
            "Dataset URL: https://www.kaggle.com/datasets/meowmeowmeowmeowmeow/gtsrb-german-traffic-sign\n",
            "License(s): CC0-1.0\n",
            "Downloading gtsrb-german-traffic-sign.zip to /content\n",
            " 99% 605M/612M [00:03<00:00, 162MB/s]\n",
            "100% 612M/612M [00:03<00:00, 187MB/s]\n"
          ]
        }
      ]
    },
    {
      "cell_type": "code",
      "source": [
        "!unzip -q gtsrb-german-traffic-sign.zip -d /content/train\n",
        "# unzipping the file"
      ],
      "metadata": {
        "id": "JrTDTnnEB20g"
      },
      "execution_count": 10,
      "outputs": []
    },
    {
      "cell_type": "code",
      "execution_count": 11,
      "metadata": {
        "id": "tVzUlAfxaKVD",
        "colab": {
          "base_uri": "https://localhost:8080/"
        },
        "outputId": "b15be841-5eff-4aff-f25e-7098e3be911f"
      },
      "outputs": [
        {
          "output_type": "stream",
          "name": "stdout",
          "text": [
            "Folders found in current_path: ['9', '12', '24', '38', '30', '35', '6', '18', '36', '27', '14', '39', '2', '32', '11', '28', '7', '37', '34', '41', '3', '40', '8', '26', '10', '33', '29', '4', '20', '21', '0', '16', '31', '22', '5', '25', '1', '19', '13', '17', '23', '15', '42']\n",
            "Loading 210 images from class 0\n"
          ]
        },
        {
          "output_type": "stream",
          "name": "stderr",
          "text": [
            "Loading class 0: 100%|██████████| 210/210 [00:00<00:00, 1212.56it/s]\n"
          ]
        },
        {
          "output_type": "stream",
          "name": "stdout",
          "text": [
            "Loading 2220 images from class 1\n"
          ]
        },
        {
          "output_type": "stream",
          "name": "stderr",
          "text": [
            "Loading class 1: 100%|██████████| 2220/2220 [00:00<00:00, 2314.07it/s]\n"
          ]
        },
        {
          "output_type": "stream",
          "name": "stdout",
          "text": [
            "Loading 2250 images from class 2\n"
          ]
        },
        {
          "output_type": "stream",
          "name": "stderr",
          "text": [
            "Loading class 2: 100%|██████████| 2250/2250 [00:00<00:00, 2642.31it/s]\n"
          ]
        },
        {
          "output_type": "stream",
          "name": "stdout",
          "text": [
            "Loading 1410 images from class 3\n"
          ]
        },
        {
          "output_type": "stream",
          "name": "stderr",
          "text": [
            "Loading class 3: 100%|██████████| 1410/1410 [00:00<00:00, 2823.39it/s]\n"
          ]
        },
        {
          "output_type": "stream",
          "name": "stdout",
          "text": [
            "Loading 1980 images from class 4\n"
          ]
        },
        {
          "output_type": "stream",
          "name": "stderr",
          "text": [
            "Loading class 4: 100%|██████████| 1980/1980 [00:00<00:00, 2527.14it/s]\n"
          ]
        },
        {
          "output_type": "stream",
          "name": "stdout",
          "text": [
            "Loading 1860 images from class 5\n"
          ]
        },
        {
          "output_type": "stream",
          "name": "stderr",
          "text": [
            "Loading class 5: 100%|██████████| 1860/1860 [00:00<00:00, 1980.56it/s]\n"
          ]
        },
        {
          "output_type": "stream",
          "name": "stdout",
          "text": [
            "Loading 420 images from class 6\n"
          ]
        },
        {
          "output_type": "stream",
          "name": "stderr",
          "text": [
            "Loading class 6: 100%|██████████| 420/420 [00:00<00:00, 2098.88it/s]\n"
          ]
        },
        {
          "output_type": "stream",
          "name": "stdout",
          "text": [
            "Loading 1440 images from class 7\n"
          ]
        },
        {
          "output_type": "stream",
          "name": "stderr",
          "text": [
            "Loading class 7: 100%|██████████| 1440/1440 [00:00<00:00, 1834.53it/s]\n"
          ]
        },
        {
          "output_type": "stream",
          "name": "stdout",
          "text": [
            "Loading 1410 images from class 8\n"
          ]
        },
        {
          "output_type": "stream",
          "name": "stderr",
          "text": [
            "Loading class 8: 100%|██████████| 1410/1410 [00:00<00:00, 1756.19it/s]\n"
          ]
        },
        {
          "output_type": "stream",
          "name": "stdout",
          "text": [
            "Loading 1470 images from class 9\n"
          ]
        },
        {
          "output_type": "stream",
          "name": "stderr",
          "text": [
            "Loading class 9: 100%|██████████| 1470/1470 [00:00<00:00, 2726.98it/s]\n"
          ]
        },
        {
          "output_type": "stream",
          "name": "stdout",
          "text": [
            "Loading 2010 images from class 10\n"
          ]
        },
        {
          "output_type": "stream",
          "name": "stderr",
          "text": [
            "Loading class 10: 100%|██████████| 2010/2010 [00:00<00:00, 2883.85it/s]\n"
          ]
        },
        {
          "output_type": "stream",
          "name": "stdout",
          "text": [
            "Loading 1320 images from class 11\n"
          ]
        },
        {
          "output_type": "stream",
          "name": "stderr",
          "text": [
            "Loading class 11: 100%|██████████| 1320/1320 [00:00<00:00, 2022.32it/s]\n"
          ]
        },
        {
          "output_type": "stream",
          "name": "stdout",
          "text": [
            "Loading 2100 images from class 12\n"
          ]
        },
        {
          "output_type": "stream",
          "name": "stderr",
          "text": [
            "Loading class 12: 100%|██████████| 2100/2100 [00:00<00:00, 2366.99it/s]\n"
          ]
        },
        {
          "output_type": "stream",
          "name": "stdout",
          "text": [
            "Loading 2160 images from class 13\n"
          ]
        },
        {
          "output_type": "stream",
          "name": "stderr",
          "text": [
            "Loading class 13: 100%|██████████| 2160/2160 [00:00<00:00, 2187.12it/s]\n"
          ]
        },
        {
          "output_type": "stream",
          "name": "stdout",
          "text": [
            "Loading 780 images from class 14\n"
          ]
        },
        {
          "output_type": "stream",
          "name": "stderr",
          "text": [
            "Loading class 14: 100%|██████████| 780/780 [00:00<00:00, 1770.86it/s]\n"
          ]
        },
        {
          "output_type": "stream",
          "name": "stdout",
          "text": [
            "Loading 630 images from class 15\n"
          ]
        },
        {
          "output_type": "stream",
          "name": "stderr",
          "text": [
            "Loading class 15: 100%|██████████| 630/630 [00:00<00:00, 2514.57it/s]\n"
          ]
        },
        {
          "output_type": "stream",
          "name": "stdout",
          "text": [
            "Loading 420 images from class 16\n"
          ]
        },
        {
          "output_type": "stream",
          "name": "stderr",
          "text": [
            "Loading class 16: 100%|██████████| 420/420 [00:00<00:00, 2357.86it/s]\n"
          ]
        },
        {
          "output_type": "stream",
          "name": "stdout",
          "text": [
            "Loading 1110 images from class 17\n"
          ]
        },
        {
          "output_type": "stream",
          "name": "stderr",
          "text": [
            "Loading class 17: 100%|██████████| 1110/1110 [00:00<00:00, 2916.23it/s]\n"
          ]
        },
        {
          "output_type": "stream",
          "name": "stdout",
          "text": [
            "Loading 1200 images from class 18\n"
          ]
        },
        {
          "output_type": "stream",
          "name": "stderr",
          "text": [
            "Loading class 18: 100%|██████████| 1200/1200 [00:00<00:00, 2061.11it/s]\n"
          ]
        },
        {
          "output_type": "stream",
          "name": "stdout",
          "text": [
            "Loading 210 images from class 19\n"
          ]
        },
        {
          "output_type": "stream",
          "name": "stderr",
          "text": [
            "Loading class 19: 100%|██████████| 210/210 [00:00<00:00, 2096.66it/s]\n"
          ]
        },
        {
          "output_type": "stream",
          "name": "stdout",
          "text": [
            "Loading 360 images from class 20\n"
          ]
        },
        {
          "output_type": "stream",
          "name": "stderr",
          "text": [
            "Loading class 20: 100%|██████████| 360/360 [00:00<00:00, 2843.46it/s]\n"
          ]
        },
        {
          "output_type": "stream",
          "name": "stdout",
          "text": [
            "Loading 330 images from class 21\n"
          ]
        },
        {
          "output_type": "stream",
          "name": "stderr",
          "text": [
            "Loading class 21: 100%|██████████| 330/330 [00:00<00:00, 2027.94it/s]\n"
          ]
        },
        {
          "output_type": "stream",
          "name": "stdout",
          "text": [
            "Loading 390 images from class 22\n"
          ]
        },
        {
          "output_type": "stream",
          "name": "stderr",
          "text": [
            "Loading class 22: 100%|██████████| 390/390 [00:00<00:00, 2566.41it/s]\n"
          ]
        },
        {
          "output_type": "stream",
          "name": "stdout",
          "text": [
            "Loading 510 images from class 23\n"
          ]
        },
        {
          "output_type": "stream",
          "name": "stderr",
          "text": [
            "Loading class 23: 100%|██████████| 510/510 [00:00<00:00, 1998.12it/s]\n"
          ]
        },
        {
          "output_type": "stream",
          "name": "stdout",
          "text": [
            "Loading 270 images from class 24\n"
          ]
        },
        {
          "output_type": "stream",
          "name": "stderr",
          "text": [
            "Loading class 24: 100%|██████████| 270/270 [00:00<00:00, 2126.61it/s]\n"
          ]
        },
        {
          "output_type": "stream",
          "name": "stdout",
          "text": [
            "Loading 1500 images from class 25\n"
          ]
        },
        {
          "output_type": "stream",
          "name": "stderr",
          "text": [
            "Loading class 25: 100%|██████████| 1500/1500 [00:00<00:00, 2070.66it/s]\n"
          ]
        },
        {
          "output_type": "stream",
          "name": "stdout",
          "text": [
            "Loading 600 images from class 26\n"
          ]
        },
        {
          "output_type": "stream",
          "name": "stderr",
          "text": [
            "Loading class 26: 100%|██████████| 600/600 [00:00<00:00, 2418.33it/s]\n"
          ]
        },
        {
          "output_type": "stream",
          "name": "stdout",
          "text": [
            "Loading 240 images from class 27\n"
          ]
        },
        {
          "output_type": "stream",
          "name": "stderr",
          "text": [
            "Loading class 27: 100%|██████████| 240/240 [00:00<00:00, 2422.51it/s]\n"
          ]
        },
        {
          "output_type": "stream",
          "name": "stdout",
          "text": [
            "Loading 540 images from class 28\n"
          ]
        },
        {
          "output_type": "stream",
          "name": "stderr",
          "text": [
            "Loading class 28: 100%|██████████| 540/540 [00:00<00:00, 2395.66it/s]\n"
          ]
        },
        {
          "output_type": "stream",
          "name": "stdout",
          "text": [
            "Loading 270 images from class 29\n"
          ]
        },
        {
          "output_type": "stream",
          "name": "stderr",
          "text": [
            "Loading class 29: 100%|██████████| 270/270 [00:00<00:00, 2276.49it/s]\n"
          ]
        },
        {
          "output_type": "stream",
          "name": "stdout",
          "text": [
            "Loading 450 images from class 30\n"
          ]
        },
        {
          "output_type": "stream",
          "name": "stderr",
          "text": [
            "Loading class 30: 100%|██████████| 450/450 [00:00<00:00, 2280.55it/s]\n"
          ]
        },
        {
          "output_type": "stream",
          "name": "stdout",
          "text": [
            "Loading 780 images from class 31\n"
          ]
        },
        {
          "output_type": "stream",
          "name": "stderr",
          "text": [
            "Loading class 31: 100%|██████████| 780/780 [00:00<00:00, 2489.98it/s]\n"
          ]
        },
        {
          "output_type": "stream",
          "name": "stdout",
          "text": [
            "Loading 240 images from class 32\n"
          ]
        },
        {
          "output_type": "stream",
          "name": "stderr",
          "text": [
            "Loading class 32: 100%|██████████| 240/240 [00:00<00:00, 3080.39it/s]\n"
          ]
        },
        {
          "output_type": "stream",
          "name": "stdout",
          "text": [
            "Loading 689 images from class 33\n"
          ]
        },
        {
          "output_type": "stream",
          "name": "stderr",
          "text": [
            "Loading class 33: 100%|██████████| 689/689 [00:00<00:00, 2500.65it/s]\n"
          ]
        },
        {
          "output_type": "stream",
          "name": "stdout",
          "text": [
            "Loading 420 images from class 34\n"
          ]
        },
        {
          "output_type": "stream",
          "name": "stderr",
          "text": [
            "Loading class 34: 100%|██████████| 420/420 [00:00<00:00, 1826.29it/s]\n"
          ]
        },
        {
          "output_type": "stream",
          "name": "stdout",
          "text": [
            "Loading 1200 images from class 35\n"
          ]
        },
        {
          "output_type": "stream",
          "name": "stderr",
          "text": [
            "Loading class 35: 100%|██████████| 1200/1200 [00:00<00:00, 2655.38it/s]\n"
          ]
        },
        {
          "output_type": "stream",
          "name": "stdout",
          "text": [
            "Loading 390 images from class 36\n"
          ]
        },
        {
          "output_type": "stream",
          "name": "stderr",
          "text": [
            "Loading class 36: 100%|██████████| 390/390 [00:00<00:00, 2059.70it/s]\n"
          ]
        },
        {
          "output_type": "stream",
          "name": "stdout",
          "text": [
            "Loading 210 images from class 37\n"
          ]
        },
        {
          "output_type": "stream",
          "name": "stderr",
          "text": [
            "Loading class 37: 100%|██████████| 210/210 [00:00<00:00, 2422.97it/s]\n"
          ]
        },
        {
          "output_type": "stream",
          "name": "stdout",
          "text": [
            "Loading 2070 images from class 38\n"
          ]
        },
        {
          "output_type": "stream",
          "name": "stderr",
          "text": [
            "Loading class 38: 100%|██████████| 2070/2070 [00:01<00:00, 1836.53it/s]\n"
          ]
        },
        {
          "output_type": "stream",
          "name": "stdout",
          "text": [
            "Loading 300 images from class 39\n"
          ]
        },
        {
          "output_type": "stream",
          "name": "stderr",
          "text": [
            "Loading class 39: 100%|██████████| 300/300 [00:00<00:00, 1461.26it/s]\n"
          ]
        },
        {
          "output_type": "stream",
          "name": "stdout",
          "text": [
            "Loading 360 images from class 40\n"
          ]
        },
        {
          "output_type": "stream",
          "name": "stderr",
          "text": [
            "Loading class 40: 100%|██████████| 360/360 [00:00<00:00, 1492.34it/s]\n"
          ]
        },
        {
          "output_type": "stream",
          "name": "stdout",
          "text": [
            "Loading 240 images from class 41\n"
          ]
        },
        {
          "output_type": "stream",
          "name": "stderr",
          "text": [
            "Loading class 41: 100%|██████████| 240/240 [00:00<00:00, 1754.32it/s]\n"
          ]
        },
        {
          "output_type": "stream",
          "name": "stdout",
          "text": [
            "Loading 240 images from class 42\n"
          ]
        },
        {
          "output_type": "stream",
          "name": "stderr",
          "text": [
            "Loading class 42: 100%|██████████| 240/240 [00:00<00:00, 1911.07it/s]\n"
          ]
        },
        {
          "output_type": "stream",
          "name": "stdout",
          "text": [
            "Loaded 39209 images total.\n",
            "Data shape: (39209, 30, 30, 3)\n",
            "Labels shape: (39209,)\n"
          ]
        }
      ],
      "source": [
        "# Retrieve the images and their labels\n",
        "from PIL import Image # imports image class\n",
        "import numpy as np\n",
        "from tqdm import tqdm # progress bars in loops visuals\n",
        "\n",
        "data = []\n",
        "labels = []\n",
        "classes = 43\n",
        "current_path = '/content/train/Train'\n",
        "\n",
        "# Check directory structure\n",
        "print(\"Folders found in current_path:\", os.listdir(current_path)) # folder structure is correct\n",
        "\n",
        "for i in range(classes): # goes through each class folder\n",
        "    class_folder = os.path.join(current_path, str(i)) # building the path\n",
        "    if not os.path.exists(class_folder):\n",
        "        print(f\"Warning: Folder not found: {class_folder}\")\n",
        "        continue # skipping folder that don't exist\n",
        "\n",
        "    images = os.listdir(class_folder) # getting image names\n",
        "    print(f\"Loading {len(images)} images from class {i}\") # prints how many images were found\n",
        "\n",
        "    for img_name in tqdm(images, desc=f'Loading class {i}'): # looping through each images\n",
        "        try:\n",
        "            img_path = os.path.join(class_folder, img_name) # full file path to the image\n",
        "            image = Image.open(img_path).convert('RGB')     # convert to RGB\n",
        "            image = image.resize((30, 30))                  # resize to 30x30\n",
        "            image = np.array(image) / 255.0                 # normalize pixels\n",
        "            data.append(image)                              # adding image to data list\n",
        "            labels.append(i)                                # adds correct label\n",
        "        except Exception as e:\n",
        "            print(f\"Error loading image {img_name}: {e}\")   # prints error without crashing if image doesn't load\n",
        "\n",
        "data = np.array(data)                                       # converts to NumPy arrays\n",
        "labels = np.array(labels)                                   # converts to NumPy arrays\n",
        "\n",
        "print(f\"Loaded {len(data)} images total.\")\n",
        "print(f\"Data shape: {data.shape}\")                          # Number of images, height, width, colors\n",
        "print(f\"Labels shape: {labels.shape}\")"
      ]
    },
    {
      "cell_type": "markdown",
      "source": [
        "I went back to step 3 data exploration.  In the cell where we were suppose to Retrieve the images and their labels, I changed some things around.  I first had to fix the path to where the class folders actually were.  I also converte all images to RGB for consistency.  I did this to make sure all images were loaded properly and consistantly to try and improve accuracy."
      ],
      "metadata": {
        "id": "VttcqGzJEfQ7"
      }
    },
    {
      "cell_type": "markdown",
      "metadata": {
        "id": "iyPgVAj-aKVD"
      },
      "source": [
        "## Train Test Split\n",
        "Do you still remember how to split your data into training data and testing data? <br>\n",
        "For easy reference, you need to create: X_train, X_test, y_train, y_test <br>\n",
        "\n",
        "What ratio will you use to do the split? <br>\n",
        "Common ratios are 70:30 and 80:20."
      ]
    },
    {
      "cell_type": "code",
      "execution_count": 12,
      "metadata": {
        "id": "ZmqmaIY6aKVE",
        "outputId": "c457db18-571c-4d97-b570-572025cc7a2f",
        "colab": {
          "base_uri": "https://localhost:8080/"
        }
      },
      "outputs": [
        {
          "output_type": "stream",
          "name": "stdout",
          "text": [
            "(39209, 30, 30, 3) (39209,)\n",
            "(31367, 30, 30, 3) (7842, 30, 30, 3) (31367,) (7842,)\n"
          ]
        }
      ],
      "source": [
        "# Convert lists into numpy arrays\n",
        "from sklearn.model_selection import train_test_split                # need for splitting data from training and testing\n",
        "from tensorflow.keras.utils import to_categorical\n",
        "\n",
        "# data already normalized once\n",
        "print(data.shape, labels.shape)                                     # printing the entire shape of the dataset\n",
        "\n",
        "X_train, X_test, y_train, y_test = train_test_split(                # splitting your data and labels into training and testing sets\n",
        "    data, labels, test_size=0.2, random_state=42, stratify=labels\n",
        ")\n",
        "\n",
        "print(X_train.shape, X_test.shape, y_train.shape, y_test.shape)     # confirming the split worked correctly"
      ]
    },
    {
      "cell_type": "markdown",
      "source": [
        "My model will train on 31,367 images and be evaluated on 7,842 unseen images."
      ],
      "metadata": {
        "id": "riPuE9DorYqm"
      }
    },
    {
      "cell_type": "markdown",
      "metadata": {
        "id": "WtkuGvKCaKVF"
      },
      "source": [
        "## One Hot Encoding\n",
        "\n",
        "Usually, numbers in Machine Learning algorithms mean ranking or importance. <br>\n",
        "However, some input data do not have any ranking. This may lead to poor predictions. <br>\n",
        "Therefore, we need to use one hot encoding to solve the above problem. <br>\n",
        "Do you still remember how to do that? <br>\n",
        "Write your answer in the cell below."
      ]
    },
    {
      "cell_type": "code",
      "execution_count": 13,
      "metadata": {
        "id": "VWiFOfntaKVF",
        "colab": {
          "base_uri": "https://localhost:8080/"
        },
        "outputId": "65c5dbc7-42fb-46de-ae5e-3298d8068bd9"
      },
      "outputs": [
        {
          "output_type": "stream",
          "name": "stdout",
          "text": [
            "(31367, 43) (7842, 43)\n"
          ]
        }
      ],
      "source": [
        "# Your answers here!\n",
        "# Convert the labels into one hot encoding\n",
        "y_train_cat = to_categorical(y_train, num_classes=43)\n",
        "y_test_cat = to_categorical(y_test, num_classes=43)\n",
        "\n",
        "print(y_train_cat.shape, y_test_cat.shape)\n",
        "\n"
      ]
    },
    {
      "cell_type": "markdown",
      "source": [
        "(39209, 43) confirms that my labels are correctly one-hot encoded"
      ],
      "metadata": {
        "id": "8ZitAOvNFVbe"
      }
    },
    {
      "cell_type": "markdown",
      "metadata": {
        "id": "Gct-vOPKaKVG"
      },
      "source": [
        "# Section 4: Modeling\n",
        "We will be building our Neural Network. <br>\n",
        "Do you still remember how it looks like? <br>\n",
        "\n",
        "There are different layers, each with different purposes:\n",
        "1. Conv2D : it is a 2D convolution layer to produce a tensor of outputs.\n",
        "2. MaxPool2D : it reduces the size by sampling the maximum value in the region.\n",
        "3. Dropout : it drops some neural network connections to prevent overfitting. <br>\n",
        "\n",
        "In the cell below, create your own Neural Network model. <br>\n",
        "You can experiment by mixing layers of Conv2D, MaxPool2D, and Dropout, of varying parameters."
      ]
    },
    {
      "cell_type": "code",
      "execution_count": 14,
      "metadata": {
        "id": "NFioKAA7aKVG",
        "colab": {
          "base_uri": "https://localhost:8080/"
        },
        "outputId": "d81985c4-5366-4c6d-a897-ac62b89f786b"
      },
      "outputs": [
        {
          "output_type": "stream",
          "name": "stderr",
          "text": [
            "/usr/local/lib/python3.11/dist-packages/keras/src/layers/convolutional/base_conv.py:107: UserWarning: Do not pass an `input_shape`/`input_dim` argument to a layer. When using Sequential models, prefer using an `Input(shape)` object as the first layer in the model instead.\n",
            "  super().__init__(activity_regularizer=activity_regularizer, **kwargs)\n"
          ]
        }
      ],
      "source": [
        "from tensorflow.keras.models import Sequential\n",
        "from tensorflow.keras.layers import Conv2D, MaxPool2D, Dropout, Flatten, Dense\n",
        "\n",
        "model = Sequential([\n",
        "    Conv2D(64, (3,3), activation='relu', input_shape=(30,30,3)),\n",
        "    MaxPool2D((2,2)),\n",
        "    Conv2D(128, (3,3), activation='relu'),\n",
        "    MaxPool2D((2,2)),\n",
        "    Conv2D(256, (3,3), activation='relu'),\n",
        "    Dropout(0.3),\n",
        "    Flatten(),\n",
        "    Dense(256, activation='relu'),\n",
        "    Dropout(0.5),\n",
        "    Dense(43, activation='softmax')\n",
        "])\n",
        "\n",
        "\n",
        "\n",
        "\n",
        "\n",
        "\n",
        "\n",
        "\n",
        "\n",
        "\n",
        "\n",
        "\n",
        "\n",
        "\n",
        "\n",
        "\n"
      ]
    },
    {
      "cell_type": "markdown",
      "metadata": {
        "id": "nRFArh6CaKVG"
      },
      "source": [
        "## Compilation\n",
        "You will need to determine what is the metrics for your model. <br>\n",
        "You've learned about binary_crossentropy and categorical_crossentropy. <br>\n",
        "You've also learned about the different optimizers (ADAM, SGD, etc)."
      ]
    },
    {
      "cell_type": "code",
      "execution_count": 15,
      "metadata": {
        "id": "idPB1qsyaKVH",
        "colab": {
          "base_uri": "https://localhost:8080/",
          "height": 476
        },
        "outputId": "61cf2b11-f8b2-41c0-d851-cac60464f2b4"
      },
      "outputs": [
        {
          "output_type": "display_data",
          "data": {
            "text/plain": [
              "\u001b[1mModel: \"sequential\"\u001b[0m\n"
            ],
            "text/html": [
              "<pre style=\"white-space:pre;overflow-x:auto;line-height:normal;font-family:Menlo,'DejaVu Sans Mono',consolas,'Courier New',monospace\"><span style=\"font-weight: bold\">Model: \"sequential\"</span>\n",
              "</pre>\n"
            ]
          },
          "metadata": {}
        },
        {
          "output_type": "display_data",
          "data": {
            "text/plain": [
              "┏━━━━━━━━━━━━━━━━━━━━━━━━━━━━━━━━━┳━━━━━━━━━━━━━━━━━━━━━━━━┳━━━━━━━━━━━━━━━┓\n",
              "┃\u001b[1m \u001b[0m\u001b[1mLayer (type)                   \u001b[0m\u001b[1m \u001b[0m┃\u001b[1m \u001b[0m\u001b[1mOutput Shape          \u001b[0m\u001b[1m \u001b[0m┃\u001b[1m \u001b[0m\u001b[1m      Param #\u001b[0m\u001b[1m \u001b[0m┃\n",
              "┡━━━━━━━━━━━━━━━━━━━━━━━━━━━━━━━━━╇━━━━━━━━━━━━━━━━━━━━━━━━╇━━━━━━━━━━━━━━━┩\n",
              "│ conv2d (\u001b[38;5;33mConv2D\u001b[0m)                 │ (\u001b[38;5;45mNone\u001b[0m, \u001b[38;5;34m28\u001b[0m, \u001b[38;5;34m28\u001b[0m, \u001b[38;5;34m64\u001b[0m)     │         \u001b[38;5;34m1,792\u001b[0m │\n",
              "├─────────────────────────────────┼────────────────────────┼───────────────┤\n",
              "│ max_pooling2d (\u001b[38;5;33mMaxPooling2D\u001b[0m)    │ (\u001b[38;5;45mNone\u001b[0m, \u001b[38;5;34m14\u001b[0m, \u001b[38;5;34m14\u001b[0m, \u001b[38;5;34m64\u001b[0m)     │             \u001b[38;5;34m0\u001b[0m │\n",
              "├─────────────────────────────────┼────────────────────────┼───────────────┤\n",
              "│ conv2d_1 (\u001b[38;5;33mConv2D\u001b[0m)               │ (\u001b[38;5;45mNone\u001b[0m, \u001b[38;5;34m12\u001b[0m, \u001b[38;5;34m12\u001b[0m, \u001b[38;5;34m128\u001b[0m)    │        \u001b[38;5;34m73,856\u001b[0m │\n",
              "├─────────────────────────────────┼────────────────────────┼───────────────┤\n",
              "│ max_pooling2d_1 (\u001b[38;5;33mMaxPooling2D\u001b[0m)  │ (\u001b[38;5;45mNone\u001b[0m, \u001b[38;5;34m6\u001b[0m, \u001b[38;5;34m6\u001b[0m, \u001b[38;5;34m128\u001b[0m)      │             \u001b[38;5;34m0\u001b[0m │\n",
              "├─────────────────────────────────┼────────────────────────┼───────────────┤\n",
              "│ conv2d_2 (\u001b[38;5;33mConv2D\u001b[0m)               │ (\u001b[38;5;45mNone\u001b[0m, \u001b[38;5;34m4\u001b[0m, \u001b[38;5;34m4\u001b[0m, \u001b[38;5;34m256\u001b[0m)      │       \u001b[38;5;34m295,168\u001b[0m │\n",
              "├─────────────────────────────────┼────────────────────────┼───────────────┤\n",
              "│ dropout (\u001b[38;5;33mDropout\u001b[0m)               │ (\u001b[38;5;45mNone\u001b[0m, \u001b[38;5;34m4\u001b[0m, \u001b[38;5;34m4\u001b[0m, \u001b[38;5;34m256\u001b[0m)      │             \u001b[38;5;34m0\u001b[0m │\n",
              "├─────────────────────────────────┼────────────────────────┼───────────────┤\n",
              "│ flatten (\u001b[38;5;33mFlatten\u001b[0m)               │ (\u001b[38;5;45mNone\u001b[0m, \u001b[38;5;34m4096\u001b[0m)           │             \u001b[38;5;34m0\u001b[0m │\n",
              "├─────────────────────────────────┼────────────────────────┼───────────────┤\n",
              "│ dense (\u001b[38;5;33mDense\u001b[0m)                   │ (\u001b[38;5;45mNone\u001b[0m, \u001b[38;5;34m256\u001b[0m)            │     \u001b[38;5;34m1,048,832\u001b[0m │\n",
              "├─────────────────────────────────┼────────────────────────┼───────────────┤\n",
              "│ dropout_1 (\u001b[38;5;33mDropout\u001b[0m)             │ (\u001b[38;5;45mNone\u001b[0m, \u001b[38;5;34m256\u001b[0m)            │             \u001b[38;5;34m0\u001b[0m │\n",
              "├─────────────────────────────────┼────────────────────────┼───────────────┤\n",
              "│ dense_1 (\u001b[38;5;33mDense\u001b[0m)                 │ (\u001b[38;5;45mNone\u001b[0m, \u001b[38;5;34m43\u001b[0m)             │        \u001b[38;5;34m11,051\u001b[0m │\n",
              "└─────────────────────────────────┴────────────────────────┴───────────────┘\n"
            ],
            "text/html": [
              "<pre style=\"white-space:pre;overflow-x:auto;line-height:normal;font-family:Menlo,'DejaVu Sans Mono',consolas,'Courier New',monospace\">┏━━━━━━━━━━━━━━━━━━━━━━━━━━━━━━━━━┳━━━━━━━━━━━━━━━━━━━━━━━━┳━━━━━━━━━━━━━━━┓\n",
              "┃<span style=\"font-weight: bold\"> Layer (type)                    </span>┃<span style=\"font-weight: bold\"> Output Shape           </span>┃<span style=\"font-weight: bold\">       Param # </span>┃\n",
              "┡━━━━━━━━━━━━━━━━━━━━━━━━━━━━━━━━━╇━━━━━━━━━━━━━━━━━━━━━━━━╇━━━━━━━━━━━━━━━┩\n",
              "│ conv2d (<span style=\"color: #0087ff; text-decoration-color: #0087ff\">Conv2D</span>)                 │ (<span style=\"color: #00d7ff; text-decoration-color: #00d7ff\">None</span>, <span style=\"color: #00af00; text-decoration-color: #00af00\">28</span>, <span style=\"color: #00af00; text-decoration-color: #00af00\">28</span>, <span style=\"color: #00af00; text-decoration-color: #00af00\">64</span>)     │         <span style=\"color: #00af00; text-decoration-color: #00af00\">1,792</span> │\n",
              "├─────────────────────────────────┼────────────────────────┼───────────────┤\n",
              "│ max_pooling2d (<span style=\"color: #0087ff; text-decoration-color: #0087ff\">MaxPooling2D</span>)    │ (<span style=\"color: #00d7ff; text-decoration-color: #00d7ff\">None</span>, <span style=\"color: #00af00; text-decoration-color: #00af00\">14</span>, <span style=\"color: #00af00; text-decoration-color: #00af00\">14</span>, <span style=\"color: #00af00; text-decoration-color: #00af00\">64</span>)     │             <span style=\"color: #00af00; text-decoration-color: #00af00\">0</span> │\n",
              "├─────────────────────────────────┼────────────────────────┼───────────────┤\n",
              "│ conv2d_1 (<span style=\"color: #0087ff; text-decoration-color: #0087ff\">Conv2D</span>)               │ (<span style=\"color: #00d7ff; text-decoration-color: #00d7ff\">None</span>, <span style=\"color: #00af00; text-decoration-color: #00af00\">12</span>, <span style=\"color: #00af00; text-decoration-color: #00af00\">12</span>, <span style=\"color: #00af00; text-decoration-color: #00af00\">128</span>)    │        <span style=\"color: #00af00; text-decoration-color: #00af00\">73,856</span> │\n",
              "├─────────────────────────────────┼────────────────────────┼───────────────┤\n",
              "│ max_pooling2d_1 (<span style=\"color: #0087ff; text-decoration-color: #0087ff\">MaxPooling2D</span>)  │ (<span style=\"color: #00d7ff; text-decoration-color: #00d7ff\">None</span>, <span style=\"color: #00af00; text-decoration-color: #00af00\">6</span>, <span style=\"color: #00af00; text-decoration-color: #00af00\">6</span>, <span style=\"color: #00af00; text-decoration-color: #00af00\">128</span>)      │             <span style=\"color: #00af00; text-decoration-color: #00af00\">0</span> │\n",
              "├─────────────────────────────────┼────────────────────────┼───────────────┤\n",
              "│ conv2d_2 (<span style=\"color: #0087ff; text-decoration-color: #0087ff\">Conv2D</span>)               │ (<span style=\"color: #00d7ff; text-decoration-color: #00d7ff\">None</span>, <span style=\"color: #00af00; text-decoration-color: #00af00\">4</span>, <span style=\"color: #00af00; text-decoration-color: #00af00\">4</span>, <span style=\"color: #00af00; text-decoration-color: #00af00\">256</span>)      │       <span style=\"color: #00af00; text-decoration-color: #00af00\">295,168</span> │\n",
              "├─────────────────────────────────┼────────────────────────┼───────────────┤\n",
              "│ dropout (<span style=\"color: #0087ff; text-decoration-color: #0087ff\">Dropout</span>)               │ (<span style=\"color: #00d7ff; text-decoration-color: #00d7ff\">None</span>, <span style=\"color: #00af00; text-decoration-color: #00af00\">4</span>, <span style=\"color: #00af00; text-decoration-color: #00af00\">4</span>, <span style=\"color: #00af00; text-decoration-color: #00af00\">256</span>)      │             <span style=\"color: #00af00; text-decoration-color: #00af00\">0</span> │\n",
              "├─────────────────────────────────┼────────────────────────┼───────────────┤\n",
              "│ flatten (<span style=\"color: #0087ff; text-decoration-color: #0087ff\">Flatten</span>)               │ (<span style=\"color: #00d7ff; text-decoration-color: #00d7ff\">None</span>, <span style=\"color: #00af00; text-decoration-color: #00af00\">4096</span>)           │             <span style=\"color: #00af00; text-decoration-color: #00af00\">0</span> │\n",
              "├─────────────────────────────────┼────────────────────────┼───────────────┤\n",
              "│ dense (<span style=\"color: #0087ff; text-decoration-color: #0087ff\">Dense</span>)                   │ (<span style=\"color: #00d7ff; text-decoration-color: #00d7ff\">None</span>, <span style=\"color: #00af00; text-decoration-color: #00af00\">256</span>)            │     <span style=\"color: #00af00; text-decoration-color: #00af00\">1,048,832</span> │\n",
              "├─────────────────────────────────┼────────────────────────┼───────────────┤\n",
              "│ dropout_1 (<span style=\"color: #0087ff; text-decoration-color: #0087ff\">Dropout</span>)             │ (<span style=\"color: #00d7ff; text-decoration-color: #00d7ff\">None</span>, <span style=\"color: #00af00; text-decoration-color: #00af00\">256</span>)            │             <span style=\"color: #00af00; text-decoration-color: #00af00\">0</span> │\n",
              "├─────────────────────────────────┼────────────────────────┼───────────────┤\n",
              "│ dense_1 (<span style=\"color: #0087ff; text-decoration-color: #0087ff\">Dense</span>)                 │ (<span style=\"color: #00d7ff; text-decoration-color: #00d7ff\">None</span>, <span style=\"color: #00af00; text-decoration-color: #00af00\">43</span>)             │        <span style=\"color: #00af00; text-decoration-color: #00af00\">11,051</span> │\n",
              "└─────────────────────────────────┴────────────────────────┴───────────────┘\n",
              "</pre>\n"
            ]
          },
          "metadata": {}
        },
        {
          "output_type": "display_data",
          "data": {
            "text/plain": [
              "\u001b[1m Total params: \u001b[0m\u001b[38;5;34m1,430,699\u001b[0m (5.46 MB)\n"
            ],
            "text/html": [
              "<pre style=\"white-space:pre;overflow-x:auto;line-height:normal;font-family:Menlo,'DejaVu Sans Mono',consolas,'Courier New',monospace\"><span style=\"font-weight: bold\"> Total params: </span><span style=\"color: #00af00; text-decoration-color: #00af00\">1,430,699</span> (5.46 MB)\n",
              "</pre>\n"
            ]
          },
          "metadata": {}
        },
        {
          "output_type": "display_data",
          "data": {
            "text/plain": [
              "\u001b[1m Trainable params: \u001b[0m\u001b[38;5;34m1,430,699\u001b[0m (5.46 MB)\n"
            ],
            "text/html": [
              "<pre style=\"white-space:pre;overflow-x:auto;line-height:normal;font-family:Menlo,'DejaVu Sans Mono',consolas,'Courier New',monospace\"><span style=\"font-weight: bold\"> Trainable params: </span><span style=\"color: #00af00; text-decoration-color: #00af00\">1,430,699</span> (5.46 MB)\n",
              "</pre>\n"
            ]
          },
          "metadata": {}
        },
        {
          "output_type": "display_data",
          "data": {
            "text/plain": [
              "\u001b[1m Non-trainable params: \u001b[0m\u001b[38;5;34m0\u001b[0m (0.00 B)\n"
            ],
            "text/html": [
              "<pre style=\"white-space:pre;overflow-x:auto;line-height:normal;font-family:Menlo,'DejaVu Sans Mono',consolas,'Courier New',monospace\"><span style=\"font-weight: bold\"> Non-trainable params: </span><span style=\"color: #00af00; text-decoration-color: #00af00\">0</span> (0.00 B)\n",
              "</pre>\n"
            ]
          },
          "metadata": {}
        }
      ],
      "source": [
        "# Your answers here!\n",
        "# Compile the model\n",
        "\n",
        "model.compile(optimizer='adam', loss='categorical_crossentropy', metrics=['accuracy'])\n",
        "model.summary()\n",
        "\n",
        "\n"
      ]
    },
    {
      "cell_type": "code",
      "source": [
        "print(f\"Data range: min={X_train.min()}, max={X_train.max()}\")\n",
        "print(f\"Training labels shape: {y_train_cat.shape}\")\n",
        "print(f\"Sample labels one-hot:\\n{y_train_cat[:5]}\")\n",
        "\n",
        "# Confirm stratification\n",
        "unique, counts = np.unique(y_train, return_counts=True)\n",
        "print(f\"Train label distribution: {dict(zip(unique, counts))}\")\n"
      ],
      "metadata": {
        "colab": {
          "base_uri": "https://localhost:8080/"
        },
        "id": "lJuBrjRtFkLT",
        "outputId": "97817a0f-bd9c-4455-c642-50f87d54cb13"
      },
      "execution_count": 16,
      "outputs": [
        {
          "output_type": "stream",
          "name": "stdout",
          "text": [
            "Data range: min=0.0, max=1.0\n",
            "Training labels shape: (31367, 43)\n",
            "Sample labels one-hot:\n",
            "[[0. 0. 0. 0. 0. 0. 0. 0. 0. 0. 0. 0. 1. 0. 0. 0. 0. 0. 0. 0. 0. 0. 0. 0.\n",
            "  0. 0. 0. 0. 0. 0. 0. 0. 0. 0. 0. 0. 0. 0. 0. 0. 0. 0. 0.]\n",
            " [0. 0. 0. 0. 0. 1. 0. 0. 0. 0. 0. 0. 0. 0. 0. 0. 0. 0. 0. 0. 0. 0. 0. 0.\n",
            "  0. 0. 0. 0. 0. 0. 0. 0. 0. 0. 0. 0. 0. 0. 0. 0. 0. 0. 0.]\n",
            " [0. 0. 0. 0. 0. 0. 0. 0. 0. 0. 0. 0. 1. 0. 0. 0. 0. 0. 0. 0. 0. 0. 0. 0.\n",
            "  0. 0. 0. 0. 0. 0. 0. 0. 0. 0. 0. 0. 0. 0. 0. 0. 0. 0. 0.]\n",
            " [0. 0. 0. 0. 0. 0. 0. 0. 0. 0. 0. 0. 0. 1. 0. 0. 0. 0. 0. 0. 0. 0. 0. 0.\n",
            "  0. 0. 0. 0. 0. 0. 0. 0. 0. 0. 0. 0. 0. 0. 0. 0. 0. 0. 0.]\n",
            " [0. 0. 0. 0. 0. 0. 0. 0. 0. 0. 0. 0. 0. 0. 0. 0. 0. 0. 1. 0. 0. 0. 0. 0.\n",
            "  0. 0. 0. 0. 0. 0. 0. 0. 0. 0. 0. 0. 0. 0. 0. 0. 0. 0. 0.]]\n",
            "Train label distribution: {np.int64(0): np.int64(168), np.int64(1): np.int64(1776), np.int64(2): np.int64(1800), np.int64(3): np.int64(1128), np.int64(4): np.int64(1584), np.int64(5): np.int64(1488), np.int64(6): np.int64(336), np.int64(7): np.int64(1152), np.int64(8): np.int64(1128), np.int64(9): np.int64(1176), np.int64(10): np.int64(1608), np.int64(11): np.int64(1056), np.int64(12): np.int64(1680), np.int64(13): np.int64(1728), np.int64(14): np.int64(624), np.int64(15): np.int64(504), np.int64(16): np.int64(336), np.int64(17): np.int64(888), np.int64(18): np.int64(960), np.int64(19): np.int64(168), np.int64(20): np.int64(288), np.int64(21): np.int64(264), np.int64(22): np.int64(312), np.int64(23): np.int64(408), np.int64(24): np.int64(216), np.int64(25): np.int64(1200), np.int64(26): np.int64(480), np.int64(27): np.int64(192), np.int64(28): np.int64(432), np.int64(29): np.int64(216), np.int64(30): np.int64(360), np.int64(31): np.int64(624), np.int64(32): np.int64(192), np.int64(33): np.int64(551), np.int64(34): np.int64(336), np.int64(35): np.int64(960), np.int64(36): np.int64(312), np.int64(37): np.int64(168), np.int64(38): np.int64(1656), np.int64(39): np.int64(240), np.int64(40): np.int64(288), np.int64(41): np.int64(192), np.int64(42): np.int64(192)}\n"
          ]
        }
      ]
    },
    {
      "cell_type": "markdown",
      "metadata": {
        "id": "6FE2TQffaKVH"
      },
      "source": [
        "## How long do you want to train your model?\n",
        "You can determine how many cycles you want to run. <br>\n",
        "In Machine Learning, a cycle is called an epoch. <br>\n",
        "Theoretically, the more epoch will lead to higher acuracy. However, it may lead to overfitting. <br>\n",
        "You can also determine the size of each batch. The bigger the batch size, the more data it will be tested at one time. <br>\n",
        "However, it will be more taxing on your computing resources too. <br>\n",
        "\n",
        "In the cell below, indicate your epoch, batch_size, and the code for model.fit()."
      ]
    },
    {
      "cell_type": "code",
      "execution_count": 17,
      "metadata": {
        "id": "Q2b_3EDwaKVI",
        "outputId": "da7d5764-cafd-41d2-d8c7-dc506bf941f3",
        "colab": {
          "base_uri": "https://localhost:8080/"
        }
      },
      "outputs": [
        {
          "output_type": "stream",
          "name": "stdout",
          "text": [
            "Epoch 1/15\n",
            "\u001b[1m981/981\u001b[0m \u001b[32m━━━━━━━━━━━━━━━━━━━━\u001b[0m\u001b[37m\u001b[0m \u001b[1m137s\u001b[0m 137ms/step - accuracy: 0.3874 - loss: 2.2194 - val_accuracy: 0.9447 - val_loss: 0.1910\n",
            "Epoch 2/15\n",
            "\u001b[1m981/981\u001b[0m \u001b[32m━━━━━━━━━━━━━━━━━━━━\u001b[0m\u001b[37m\u001b[0m \u001b[1m154s\u001b[0m 150ms/step - accuracy: 0.9176 - loss: 0.2706 - val_accuracy: 0.9836 - val_loss: 0.0600\n",
            "Epoch 3/15\n",
            "\u001b[1m981/981\u001b[0m \u001b[32m━━━━━━━━━━━━━━━━━━━━\u001b[0m\u001b[37m\u001b[0m \u001b[1m200s\u001b[0m 148ms/step - accuracy: 0.9616 - loss: 0.1297 - val_accuracy: 0.9909 - val_loss: 0.0364\n",
            "Epoch 4/15\n",
            "\u001b[1m981/981\u001b[0m \u001b[32m━━━━━━━━━━━━━━━━━━━━\u001b[0m\u001b[37m\u001b[0m \u001b[1m142s\u001b[0m 145ms/step - accuracy: 0.9767 - loss: 0.0784 - val_accuracy: 0.9912 - val_loss: 0.0305\n",
            "Epoch 5/15\n",
            "\u001b[1m981/981\u001b[0m \u001b[32m━━━━━━━━━━━━━━━━━━━━\u001b[0m\u001b[37m\u001b[0m \u001b[1m209s\u001b[0m 152ms/step - accuracy: 0.9802 - loss: 0.0689 - val_accuracy: 0.9927 - val_loss: 0.0235\n",
            "Epoch 6/15\n",
            "\u001b[1m981/981\u001b[0m \u001b[32m━━━━━━━━━━━━━━━━━━━━\u001b[0m\u001b[37m\u001b[0m \u001b[1m216s\u001b[0m 166ms/step - accuracy: 0.9835 - loss: 0.0545 - val_accuracy: 0.9945 - val_loss: 0.0186\n",
            "Epoch 7/15\n",
            "\u001b[1m981/981\u001b[0m \u001b[32m━━━━━━━━━━━━━━━━━━━━\u001b[0m\u001b[37m\u001b[0m \u001b[1m137s\u001b[0m 140ms/step - accuracy: 0.9874 - loss: 0.0391 - val_accuracy: 0.9957 - val_loss: 0.0145\n",
            "Epoch 8/15\n",
            "\u001b[1m981/981\u001b[0m \u001b[32m━━━━━━━━━━━━━━━━━━━━\u001b[0m\u001b[37m\u001b[0m \u001b[1m150s\u001b[0m 148ms/step - accuracy: 0.9897 - loss: 0.0335 - val_accuracy: 0.9946 - val_loss: 0.0202\n",
            "Epoch 9/15\n",
            "\u001b[1m981/981\u001b[0m \u001b[32m━━━━━━━━━━━━━━━━━━━━\u001b[0m\u001b[37m\u001b[0m \u001b[1m187s\u001b[0m 133ms/step - accuracy: 0.9887 - loss: 0.0384 - val_accuracy: 0.9959 - val_loss: 0.0155\n",
            "Epoch 10/15\n",
            "\u001b[1m981/981\u001b[0m \u001b[32m━━━━━━━━━━━━━━━━━━━━\u001b[0m\u001b[37m\u001b[0m \u001b[1m142s\u001b[0m 145ms/step - accuracy: 0.9901 - loss: 0.0317 - val_accuracy: 0.9959 - val_loss: 0.0175\n"
          ]
        }
      ],
      "source": [
        "# Your answers here!\n",
        "from tensorflow.keras.callbacks import EarlyStopping\n",
        "\n",
        "epochs = 15\n",
        "batch_size = 32\n",
        "\n",
        "# Early stopping callback to stop training if val_loss doesn't improve after 3 epochs\n",
        "early_stop = EarlyStopping(monitor='val_loss', patience=3, restore_best_weights=True)\n",
        "\n",
        "history = model.fit(\n",
        "    X_train, y_train_cat,              # one-hot encoded training labels\n",
        "    batch_size=batch_size,\n",
        "    epochs=epochs,\n",
        "    validation_data=(X_test, y_test_cat),  # one-hot encoded test labels\n",
        "    shuffle=True,\n",
        "    callbacks=[early_stop]\n",
        ")\n",
        "\n"
      ]
    },
    {
      "cell_type": "markdown",
      "metadata": {
        "id": "3XkfIop5aKVI"
      },
      "source": [
        "# Section 5: Evaluation\n",
        "We want to check the performance of our model. <br>\n",
        "We want to know the accuracy of the results. <br>\n",
        "Do you know how to identify underfitting and overfitting (if any) from the below graphs?"
      ]
    },
    {
      "cell_type": "code",
      "execution_count": 27,
      "metadata": {
        "id": "TBxGaIdkaKVI",
        "outputId": "ddcd4959-69bc-44f3-debe-e1c114cedc4c",
        "colab": {
          "base_uri": "https://localhost:8080/",
          "height": 564
        }
      },
      "outputs": [
        {
          "output_type": "display_data",
          "data": {
            "text/plain": [
              "<Figure size 800x600 with 1 Axes>"
            ],
            "image/png": "[encoded data removed]"
          },
          "metadata": {}
        }
      ],
      "source": [
        "# Your answers here!\n",
        "\n",
        "# plot the graph for accuracy\n",
        "\n",
        "import matplotlib.pyplot as plt\n",
        "\n",
        "plt.figure(figsize=(8,6))\n",
        "plt.plot(history.history['accuracy'], label='Training Accuracy')\n",
        "plt.plot(history.history['val_accuracy'], label='Validation Accuracy')\n",
        "plt.title('Model Accuracy')\n",
        "plt.xlabel('Epoch')\n",
        "plt.ylabel('Accuracy')\n",
        "plt.legend()\n",
        "plt.grid(True)\n",
        "plt.show()\n",
        "\n",
        "\n",
        "\n",
        "\n",
        "\n",
        "\n",
        "\n"
      ]
    },
    {
      "cell_type": "code",
      "execution_count": 29,
      "metadata": {
        "id": "JMbQHoMMaKVJ",
        "outputId": "da77a740-fcda-4248-a7d8-dc719034b0e8",
        "colab": {
          "base_uri": "https://localhost:8080/",
          "height": 564
        }
      },
      "outputs": [
        {
          "output_type": "display_data",
          "data": {
            "text/plain": [
              "<Figure size 800x600 with 1 Axes>"
            ],
            "image/png": "[encoded data removed]"
          },
          "metadata": {}
        }
      ],
      "source": [
        "# Your answers here!\n",
        "\n",
        "# plot the graph for loss\n",
        "\n",
        "import matplotlib.pyplot as plt\n",
        "\n",
        "plt.figure(figsize=(8,6))\n",
        "plt.plot(history.history['loss'], label='Training Loss')\n",
        "plt.plot(history.history['val_loss'], label='Validation Loss')\n",
        "plt.title('Model Loss')\n",
        "plt.xlabel('Epoch')\n",
        "plt.ylabel('Loss')\n",
        "plt.legend()\n",
        "plt.grid(True)\n",
        "plt.show()\n",
        "\n",
        "\n",
        "\n",
        "\n",
        "\n"
      ]
    },
    {
      "cell_type": "markdown",
      "source": [
        "## **These are my initial graphs from the first run and they tell me that my model was basically learning nothing.  After retaining my model I am seeing a HUGE improvement in both Accuracy and Loss (graphs right above)**\n",
        "\n",
        "![loss first run.png](data:image/png;base64,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)\n",
        "\n",
        "![image.png](data:image/png;base64,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)"
      ],
      "metadata": {
        "id": "KCRmJnzWUYJ5"
      }
    },
    {
      "cell_type": "markdown",
      "metadata": {
        "id": "lBb0bU7MaKVK"
      },
      "source": [
        "## Evaluate using Test Dataset\n",
        "Just now, we evaluated the model using the data from the training dataset. <br>\n",
        "Now, we will evaluate using Test.csv, which is the data that the model has never seen before."
      ]
    },
    {
      "cell_type": "code",
      "execution_count": 30,
      "metadata": {
        "id": "gF4feGbeaKVK"
      },
      "outputs": [],
      "source": [
        "# test accuracy on test dataset\n",
        "from sklearn.metrics import accuracy_score\n",
        "import pandas as pd\n",
        "\n",
        "# Load test CSV file\n",
        "y_test = pd.read_csv('/content/train/Test.csv')\n",
        "\n",
        "# Extract labels and image paths\n",
        "labels = y_test[\"ClassId\"].values\n",
        "imgs = y_test[\"Path\"].values\n",
        "\n",
        "# Initialize list to hold image data\n",
        "data = []\n"
      ]
    },
    {
      "cell_type": "code",
      "source": [
        "# Preview first 5 image paths\n",
        "for i, path in enumerate(imgs[:5]):\n",
        "    print(f\"Original path {i}: {path}\")\n",
        "\n",
        "if imgs[0].startswith('/content/train/'):\n",
        "    print(\"Paths already have full prefix. Using as is.\")\n",
        "else:\n",
        "    print(\"Paths are relative. Prepending '/content/train/'\")\n",
        "    imgs = ['/content/train/' + path for path in imgs]\n",
        "\n"
      ],
      "metadata": {
        "colab": {
          "base_uri": "https://localhost:8080/"
        },
        "id": "nlJ9hex8RJqe",
        "outputId": "f46dc7f7-98b6-499a-fcb6-b3952f02bd0e"
      },
      "execution_count": 31,
      "outputs": [
        {
          "output_type": "stream",
          "name": "stdout",
          "text": [
            "Original path 0: Test/00000.png\n",
            "Original path 1: Test/00001.png\n",
            "Original path 2: Test/00002.png\n",
            "Original path 3: Test/00003.png\n",
            "Original path 4: Test/00004.png\n",
            "Paths are relative. Prepending '/content/train/'\n"
          ]
        }
      ]
    },
    {
      "cell_type": "code",
      "source": [
        "y_test = pd.read_csv('/content/train/Test.csv')\n",
        "labels = y_test[\"ClassId\"].values\n",
        "imgs = y_test[\"Path\"].values\n"
      ],
      "metadata": {
        "id": "KiVfq7luRVJH"
      },
      "execution_count": 32,
      "outputs": []
    },
    {
      "cell_type": "code",
      "source": [
        "imgs = ['/content/train/test/' + path for path in imgs]"
      ],
      "metadata": {
        "id": "trLx53FARZoF"
      },
      "execution_count": 33,
      "outputs": []
    },
    {
      "cell_type": "code",
      "execution_count": 34,
      "metadata": {
        "id": "jaP56iypaKVK",
        "colab": {
          "base_uri": "https://localhost:8080/"
        },
        "outputId": "39a86901-bc20-46a7-eb24-3b64d36f6e6b"
      },
      "outputs": [
        {
          "output_type": "stream",
          "name": "stdout",
          "text": [
            "Loaded 12630 images.\n"
          ]
        }
      ],
      "source": [
        "# Fix broken paths and load test images\n",
        "from PIL import Image\n",
        "import numpy as np\n",
        "import pandas as pd\n",
        "\n",
        "# Reload CSV to get fresh labels and image paths\n",
        "y_test = pd.read_csv('/content/train/Test.csv')\n",
        "labels = y_test[\"ClassId\"].values\n",
        "imgs = y_test[\"Path\"].values\n",
        "\n",
        "# Prepend the full folder path once to each image path\n",
        "imgs = ['/content/train/' + path for path in imgs]\n",
        "\n",
        "# Load, resize, and convert images to numpy arrays\n",
        "data = []\n",
        "for img_path in imgs:\n",
        "    try:\n",
        "        image = Image.open(img_path)\n",
        "        image = image.resize((30, 30))  # Resize to match model input size\n",
        "        data.append(np.array(image))\n",
        "    except Exception as e:\n",
        "        print(f\"Error loading {img_path}: {e}\")\n",
        "\n",
        "# Convert list of images to numpy array for model input\n",
        "X_test = np.array(data)\n",
        "print(f\"Loaded {len(X_test)} images.\")\n",
        "\n"
      ]
    },
    {
      "cell_type": "markdown",
      "metadata": {
        "id": "gVP_ubwgaKVK"
      },
      "source": [
        "## Check accuracy\n",
        "Use accuracy_score from sklearn.metrics to compare the score between the actual labels and predictions."
      ]
    },
    {
      "cell_type": "code",
      "execution_count": 35,
      "metadata": {
        "id": "bQa8BFsPaKVL",
        "outputId": "f6896ced-35f9-433b-e9b7-7dd5432569b3",
        "colab": {
          "base_uri": "https://localhost:8080/"
        }
      },
      "outputs": [
        {
          "output_type": "stream",
          "name": "stdout",
          "text": [
            "\u001b[1m395/395\u001b[0m \u001b[32m━━━━━━━━━━━━━━━━━━━━\u001b[0m\u001b[37m\u001b[0m \u001b[1m11s\u001b[0m 27ms/step\n",
            "Accuracy: 0.9314\n",
            "Accuracy: 0.9314\n"
          ]
        }
      ],
      "source": [
        "# Your answers here!\n",
        "\n",
        "# Get predicted probabilities for each class\n",
        "y_pred_probs = model.predict(X_test)\n",
        "\n",
        "# Convert probabilities to predicted class labels\n",
        "pred = y_pred_probs.argmax(axis=1)\n",
        "\n",
        "# Now calculate accuracy\n",
        "accuracy = accuracy_score(labels, pred)\n",
        "print(f\"Accuracy: {accuracy:.4f}\")\n",
        "# Accuracy with the test data\n",
        "from sklearn.metrics import accuracy_score\n",
        "\n",
        "# Assuming 'labels' are the true labels and 'pred' are your model predictions\n",
        "accuracy = accuracy_score(labels, pred)\n",
        "print(f\"Accuracy: {accuracy:.4f}\")\n",
        "\n",
        "\n"
      ]
    },
    {
      "cell_type": "markdown",
      "metadata": {
        "id": "bp5eOP22aKVL"
      },
      "source": [
        "# What is your best model?\n",
        "In order to get the best model, you will need to modify the parameters. <br>\n",
        "Look back at the models in section 4, can you fine-tune them better? <br><br>\n",
        "What is your best model? How does it fare?"
      ]
    },
    {
      "cell_type": "markdown",
      "source": [
        "My model initially had an accuracy of 5.94% which is terrible.  I started with 10 epoch and a batch size of 32.  I then went back and tweaked it to 20 epochs with a batch size of 64.\n",
        "\n",
        "\n",
        "I went back to step 3 data exploration.  In the cell where we were suppose to Retrieve the images and their labels, I changed some things around.  I first had to fix the path to where the class folders actually were.  I also converte all images to RGB for consistency.  I did this to make sure all images were loaded properly and consistantly to try and improve accuracy."
      ],
      "metadata": {
        "id": "uJ7EhG__Sgpz"
      }
    },
    {
      "cell_type": "markdown",
      "metadata": {
        "id": "RD_Vr6cQaKVL"
      },
      "source": [
        "# Section 6: Deployment\n",
        "What makes a good deployment? <br>\n",
        "It has to be useful and easy to use. <br>\n",
        "It needs to be updated frequently and easily.<br>\n",
        "Deployment can be on-premise or online.<br>\n",
        "\n",
        "In the cell below, write down your suggestions on how you can deploy this AI model."
      ]
    },
    {
      "cell_type": "code",
      "execution_count": 26,
      "metadata": {
        "id": "d7HGSy49aKVL"
      },
      "outputs": [],
      "source": [
        "# Your answers here!\n",
        "\n",
        "# Since this is used on autonomous vehicle, it will be used in the embedded system of the car.\n",
        "# The camera feeds from the camera will be captured and analyzed by the model directly."
      ]
    },
    {
      "cell_type": "markdown",
      "metadata": {
        "id": "JgKaDUJ7aKVM"
      },
      "source": [
        "# Other Reading Materials\n",
        "You can get more info through these materials: <br>\n"
      ]
    }
  ],
  "metadata": {
    "kernelspec": {
      "display_name": "Python 3 (ipykernel)",
      "language": "python",
      "name": "python3"
    },
    "language_info": {
      "codemirror_mode": {
        "name": "ipython",
        "version": 3
      },
      "file_extension": ".py",
      "mimetype": "text/x-python",
      "name": "python",
      "nbconvert_exporter": "python",
      "pygments_lexer": "ipython3",
      "version": "3.9.1"
    },
    "colab": {
      "provenance": [],
      "include_colab_link": true
    }
  },
  "nbformat": 4,
  "nbformat_minor": 0
}